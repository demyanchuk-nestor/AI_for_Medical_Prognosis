{
 "cells": [
  {
   "cell_type": "markdown",
   "metadata": {},
   "source": [
    "# Risk Models Using Tree-based Models\n",
    "\n",
    "Welcome to the second assignment of Course 2!"
   ]
  },
  {
   "cell_type": "markdown",
   "metadata": {},
   "source": [
    "## Outline\n",
    "\n",
    "- [1. Import Packages](#1)\n",
    "- [2. Load the Dataset](#2)\n",
    "- [3. Explore the Dataset](#3)\n",
    "- [4. Dealing with Missing Data](#4)\n",
    "    - [Exercise 1](#Ex-1)\n",
    "- [5. Decision Trees](#5)\n",
    "    - [Exercise 2](#Ex-2)\n",
    "- [6. Random Forests](#6)\n",
    "    - [Exercise 3](#Ex-3)\n",
    "- [7. Imputation](#7)\n",
    "- [8. Error Analysis](#8)\n",
    "    - [Exercise 4](#Ex-4)\n",
    "- [9. Imputation Approaches](#Ex-9)\n",
    "    - [Exercise 5](#Ex-5)\n",
    "    - [Exercise 6](#Ex-6)\n",
    "- [10. Comparison](#10)\n",
    "- [11. Explanations: SHAP](#)"
   ]
  },
  {
   "cell_type": "markdown",
   "metadata": {
    "colab_type": "text",
    "id": "1id9x6FmKclN"
   },
   "source": [
    "In this assignment, you'll gain experience with tree based models by predicting the 10-year risk of death of individuals from the NHANES I epidemiology dataset (for a detailed description of this dataset you can check the [CDC Website](https://wwwn.cdc.gov/nchs/nhanes/nhefs/default.aspx/)). This is a challenging task and a great test bed for the machine learning methods we learned this week.\n",
    "\n",
    "As you go through the assignment, you'll learn about: \n",
    "\n",
    "- Dealing with Missing Data\n",
    "  - Complete Case Analysis.\n",
    "  - Imputation\n",
    "- Decision Trees\n",
    "  - Evaluation.\n",
    "  - Regularization.\n",
    "- Random Forests \n",
    "  - Hyperparameter Tuning."
   ]
  },
  {
   "cell_type": "markdown",
   "metadata": {
    "colab_type": "text",
    "id": "F6k2pItifWeK"
   },
   "source": [
    "<a name='1'></a>\n",
    "## 1. Import Packages\n",
    "\n",
    "We'll first import all the common packages that we need for this assignment. \n",
    "\n",
    "- `shap` is a library that explains predictions made by machine learning models.\n",
    "- `sklearn` is one of the most popular machine learning libraries.\n",
    "- `itertools` allows us to conveniently manipulate iterable objects such as lists.\n",
    "- `pydotplus` is used together with `IPython.display.Image` to visualize graph structures such as decision trees.\n",
    "- `numpy` is a fundamental package for scientific computing in Python.\n",
    "- `pandas` is what we'll use to manipulate our data.\n",
    "- `seaborn` is a plotting library which has some convenient functions for visualizing missing data.\n",
    "- `matplotlib` is a plotting library."
   ]
  },
  {
   "cell_type": "code",
   "execution_count": 1,
   "metadata": {},
   "outputs": [
    {
     "name": "stdout",
     "output_type": "stream",
     "text": [
      "Requirement already satisfied: shap in c:\\users\\dnr\\anaconda3\\lib\\site-packages (0.42.1)\n",
      "Requirement already satisfied: pydotplus in c:\\users\\dnr\\anaconda3\\lib\\site-packages (2.0.2)\n",
      "Requirement already satisfied: six in c:\\users\\dnr\\anaconda3\\lib\\site-packages (1.16.0)\n",
      "Requirement already satisfied: lifelines in c:\\users\\dnr\\anaconda3\\lib\\site-packages (0.27.8)\n",
      "Requirement already satisfied: formulaic>=0.2.2 in c:\\users\\dnr\\anaconda3\\lib\\site-packages (from lifelines) (1.0.1)\n",
      "Requirement already satisfied: numpy<2.0,>=1.14.0 in c:\\users\\dnr\\anaconda3\\lib\\site-packages (from lifelines) (1.21.6)\n",
      "Requirement already satisfied: autograd-gamma>=0.3 in c:\\users\\dnr\\anaconda3\\lib\\site-packages (from lifelines) (0.5.0)\n",
      "Requirement already satisfied: autograd>=1.5 in c:\\users\\dnr\\anaconda3\\lib\\site-packages (from lifelines) (1.6.2)\n",
      "Requirement already satisfied: scipy>=1.2.0 in c:\\users\\dnr\\anaconda3\\lib\\site-packages (from lifelines) (1.7.3)\n",
      "Requirement already satisfied: matplotlib>=3.0 in c:\\users\\dnr\\anaconda3\\lib\\site-packages (from lifelines) (3.5.2)\n",
      "Requirement already satisfied: pandas>=1.0.0 in c:\\users\\dnr\\anaconda3\\lib\\site-packages (from lifelines) (1.3.5)\n",
      "Requirement already satisfied: future>=0.15.2 in c:\\users\\dnr\\anaconda3\\lib\\site-packages (from autograd>=1.5->lifelines) (0.18.2)\n",
      "Requirement already satisfied: cached-property>=1.3.0 in c:\\users\\dnr\\anaconda3\\lib\\site-packages (from formulaic>=0.2.2->lifelines) (1.5.2)\n",
      "Requirement already satisfied: graphlib-backport>=1.0.0 in c:\\users\\dnr\\anaconda3\\lib\\site-packages (from formulaic>=0.2.2->lifelines) (1.0.3)\n",
      "Requirement already satisfied: wrapt>=1.0 in c:\\users\\dnr\\anaconda3\\lib\\site-packages (from formulaic>=0.2.2->lifelines) (1.12.1)\n",
      "Requirement already satisfied: astor>=0.8 in c:\\users\\dnr\\anaconda3\\lib\\site-packages (from formulaic>=0.2.2->lifelines) (0.8.1)\n",
      "Requirement already satisfied: interface-meta>=1.2.0 in c:\\users\\dnr\\anaconda3\\lib\\site-packages (from formulaic>=0.2.2->lifelines) (1.3.0)\n",
      "Requirement already satisfied: typing-extensions>=4.2.0 in c:\\users\\dnr\\anaconda3\\lib\\site-packages (from formulaic>=0.2.2->lifelines) (4.4.0)\n",
      "Requirement already satisfied: cycler>=0.10 in c:\\users\\dnr\\anaconda3\\lib\\site-packages (from matplotlib>=3.0->lifelines) (0.10.0)\n",
      "Requirement already satisfied: pillow>=6.2.0 in c:\\users\\dnr\\anaconda3\\lib\\site-packages (from matplotlib>=3.0->lifelines) (9.5.0)\n",
      "Requirement already satisfied: python-dateutil>=2.7 in c:\\users\\dnr\\anaconda3\\lib\\site-packages (from matplotlib>=3.0->lifelines) (2.8.1)\n",
      "Requirement already satisfied: kiwisolver>=1.0.1 in c:\\users\\dnr\\anaconda3\\lib\\site-packages (from matplotlib>=3.0->lifelines) (1.1.0)\n",
      "Requirement already satisfied: pyparsing>=2.2.1 in c:\\users\\dnr\\anaconda3\\lib\\site-packages (from matplotlib>=3.0->lifelines) (2.4.7)\n",
      "Requirement already satisfied: fonttools>=4.22.0 in c:\\users\\dnr\\anaconda3\\lib\\site-packages (from matplotlib>=3.0->lifelines) (4.33.3)\n",
      "Requirement already satisfied: packaging>=20.0 in c:\\users\\dnr\\anaconda3\\lib\\site-packages (from matplotlib>=3.0->lifelines) (23.2)\n",
      "Requirement already satisfied: setuptools in c:\\users\\dnr\\anaconda3\\lib\\site-packages (from kiwisolver>=1.0.1->matplotlib>=3.0->lifelines) (45.2.0.post20200210)\n",
      "Requirement already satisfied: pytz>=2017.3 in c:\\users\\dnr\\anaconda3\\lib\\site-packages (from pandas>=1.0.0->lifelines) (2021.1)\n",
      "Requirement already satisfied: scikit-learn in c:\\users\\dnr\\anaconda3\\lib\\site-packages (from shap) (0.24.2)\n",
      "Requirement already satisfied: slicer==0.0.7 in c:\\users\\dnr\\anaconda3\\lib\\site-packages (from shap) (0.0.7)\n",
      "Requirement already satisfied: numba in c:\\users\\dnr\\anaconda3\\lib\\site-packages (from shap) (0.49.0)\n",
      "Requirement already satisfied: cloudpickle in c:\\users\\dnr\\anaconda3\\lib\\site-packages (from shap) (1.3.0)\n",
      "Requirement already satisfied: tqdm>=4.27.0 in c:\\users\\dnr\\anaconda3\\lib\\site-packages (from shap) (4.60.0)\n",
      "Requirement already satisfied: llvmlite<=0.33.0.dev0,>=0.31.0.dev0 in c:\\users\\dnr\\anaconda3\\lib\\site-packages (from numba->shap) (0.31.0)\n",
      "Requirement already satisfied: joblib>=0.11 in c:\\users\\dnr\\anaconda3\\lib\\site-packages (from scikit-learn->shap) (1.1.0)\n",
      "Requirement already satisfied: threadpoolctl>=2.0.0 in c:\\users\\dnr\\anaconda3\\lib\\site-packages (from scikit-learn->shap) (2.1.0)\n"
     ]
    },
    {
     "name": "stderr",
     "output_type": "stream",
     "text": [
      "WARNING: You are using pip version 20.3.3; however, version 23.3.2 is available.\n",
      "You should consider upgrading via the 'c:\\users\\dnr\\anaconda3\\python.exe -m pip install --upgrade pip' command.\n"
     ]
    },
    {
     "name": "stdout",
     "output_type": "stream",
     "text": [
      "Requirement already satisfied: typing-extensions==4.4.0 in c:\\users\\dnr\\anaconda3\\lib\\site-packages (4.4.0)\n"
     ]
    },
    {
     "name": "stderr",
     "output_type": "stream",
     "text": [
      "WARNING: You are using pip version 20.3.3; however, version 23.3.2 is available.\n",
      "You should consider upgrading via the 'c:\\users\\dnr\\anaconda3\\python.exe -m pip install --upgrade pip' command.\n"
     ]
    },
    {
     "name": "stdout",
     "output_type": "stream",
     "text": [
      "Requirement already satisfied: graphviz in c:\\users\\dnr\\anaconda3\\lib\\site-packages (0.16)\n"
     ]
    },
    {
     "name": "stderr",
     "output_type": "stream",
     "text": [
      "WARNING: You are using pip version 20.3.3; however, version 23.3.2 is available.\n",
      "You should consider upgrading via the 'c:\\users\\dnr\\anaconda3\\python.exe -m pip install --upgrade pip' command.\n"
     ]
    }
   ],
   "source": [
    "!pip install shap pydotplus six lifelines \n",
    "!pip install typing-extensions==4.4.0\n",
    "!pip install graphviz"
   ]
  },
  {
   "cell_type": "code",
   "execution_count": 2,
   "metadata": {
    "colab": {},
    "colab_type": "code",
    "id": "V5s0iQ82okBv"
   },
   "outputs": [],
   "source": [
    "import shap\n",
    "import sklearn\n",
    "import itertools\n",
    "import pydotplus\n",
    "import numpy as np\n",
    "import pandas as pd\n",
    "import seaborn as sns\n",
    "import matplotlib.pyplot as plt\n",
    "\n",
    "from IPython.display import Image \n",
    "\n",
    "from sklearn.tree import export_graphviz\n",
    "from six import StringIO\n",
    "from sklearn.tree import DecisionTreeClassifier\n",
    "from sklearn.ensemble import RandomForestClassifier\n",
    "from sklearn.model_selection import train_test_split\n",
    "from sklearn.experimental import enable_iterative_imputer\n",
    "from sklearn.impute import IterativeImputer, SimpleImputer\n",
    "\n",
    "# We'll also import some helper functions that will be useful later on.\n",
    "from util import load_data, cindex"
   ]
  },
  {
   "cell_type": "markdown",
   "metadata": {
    "colab_type": "text",
    "id": "YckMl2bwg5Hb"
   },
   "source": [
    "<a name='2'></a>\n",
    "## 2. Load the Dataset"
   ]
  },
  {
   "cell_type": "markdown",
   "metadata": {
    "colab_type": "text",
    "id": "xrqlr_ZQhnr4"
   },
   "source": [
    "Run the next cell to load in the NHANES I epidemiology dataset. This dataset contains various features of hospital patients as well as their outcomes, i.e. whether or not they died within 10 years."
   ]
  },
  {
   "cell_type": "code",
   "execution_count": 3,
   "metadata": {
    "colab": {
     "base_uri": "https://localhost:8080/",
     "height": 122
    },
    "colab_type": "code",
    "id": "iM2qfgvUs9c_",
    "outputId": "53895f4d-48f8-429f-b447-e175a80472d9"
   },
   "outputs": [
    {
     "name": "stderr",
     "output_type": "stream",
     "text": [
      "\n",
      "A value is trying to be set on a copy of a slice from a DataFrame.\n",
      "Try using .loc[row_indexer,col_indexer] = value instead\n",
      "\n",
      "See the caveats in the documentation: https://pandas.pydata.org/pandas-docs/stable/user_guide/indexing.html#returning-a-view-versus-a-copy\n"
     ]
    }
   ],
   "source": [
    "X_dev, X_test, y_dev, y_test = load_data(10)"
   ]
  },
  {
   "cell_type": "markdown",
   "metadata": {},
   "source": [
    "The dataset has been split into a development set (or dev set), which we will use to develop our risk models, and a test set, which we will use to test our models.\n",
    "\n",
    "We further split the dev set into a training and validation set, respectively to train and tune our models, using a 75/25 split (note that we set a random state to make this split repeatable)."
   ]
  },
  {
   "cell_type": "code",
   "execution_count": 4,
   "metadata": {},
   "outputs": [],
   "source": [
    "X_train, X_val, y_train, y_val = train_test_split(X_dev, y_dev, test_size=0.25, random_state=10)"
   ]
  },
  {
   "cell_type": "markdown",
   "metadata": {
    "colab_type": "text",
    "id": "L6ijpFDIx_I6"
   },
   "source": [
    "<a name='3'></a>\n",
    "## 3. Explore the Dataset\n",
    "\n",
    "The first step is to familiarize yourself with the data. Run the next cell to get the size of your training set and look at a small sample. "
   ]
  },
  {
   "cell_type": "code",
   "execution_count": 5,
   "metadata": {
    "colab": {
     "base_uri": "https://localhost:8080/",
     "height": 275
    },
    "colab_type": "code",
    "id": "V4gvn20Gx-pF",
    "outputId": "b8e98069-70a6-425c-b26e-fc18571c2233"
   },
   "outputs": [
    {
     "name": "stdout",
     "output_type": "stream",
     "text": [
      "X_train shape: (5147, 18)\n"
     ]
    },
    {
     "data": {
      "text/html": [
       "<div>\n",
       "<style scoped>\n",
       "    .dataframe tbody tr th:only-of-type {\n",
       "        vertical-align: middle;\n",
       "    }\n",
       "\n",
       "    .dataframe tbody tr th {\n",
       "        vertical-align: top;\n",
       "    }\n",
       "\n",
       "    .dataframe thead th {\n",
       "        text-align: right;\n",
       "    }\n",
       "</style>\n",
       "<table border=\"1\" class=\"dataframe\">\n",
       "  <thead>\n",
       "    <tr style=\"text-align: right;\">\n",
       "      <th></th>\n",
       "      <th>Age</th>\n",
       "      <th>Diastolic BP</th>\n",
       "      <th>Poverty index</th>\n",
       "      <th>Race</th>\n",
       "      <th>Red blood cells</th>\n",
       "      <th>Sedimentation rate</th>\n",
       "      <th>Serum Albumin</th>\n",
       "      <th>Serum Cholesterol</th>\n",
       "      <th>Serum Iron</th>\n",
       "      <th>Serum Magnesium</th>\n",
       "      <th>Serum Protein</th>\n",
       "      <th>Sex</th>\n",
       "      <th>Systolic BP</th>\n",
       "      <th>TIBC</th>\n",
       "      <th>TS</th>\n",
       "      <th>White blood cells</th>\n",
       "      <th>BMI</th>\n",
       "      <th>Pulse pressure</th>\n",
       "    </tr>\n",
       "  </thead>\n",
       "  <tbody>\n",
       "    <tr>\n",
       "      <th>1599</th>\n",
       "      <td>43.0</td>\n",
       "      <td>84.0</td>\n",
       "      <td>637.0</td>\n",
       "      <td>1.0</td>\n",
       "      <td>49.3</td>\n",
       "      <td>10.0</td>\n",
       "      <td>5.0</td>\n",
       "      <td>253.0</td>\n",
       "      <td>134.0</td>\n",
       "      <td>1.59</td>\n",
       "      <td>7.7</td>\n",
       "      <td>1.0</td>\n",
       "      <td>NaN</td>\n",
       "      <td>490.0</td>\n",
       "      <td>27.3</td>\n",
       "      <td>9.1</td>\n",
       "      <td>25.803007</td>\n",
       "      <td>34.0</td>\n",
       "    </tr>\n",
       "    <tr>\n",
       "      <th>2794</th>\n",
       "      <td>72.0</td>\n",
       "      <td>96.0</td>\n",
       "      <td>154.0</td>\n",
       "      <td>2.0</td>\n",
       "      <td>43.4</td>\n",
       "      <td>23.0</td>\n",
       "      <td>4.3</td>\n",
       "      <td>265.0</td>\n",
       "      <td>106.0</td>\n",
       "      <td>1.66</td>\n",
       "      <td>6.8</td>\n",
       "      <td>2.0</td>\n",
       "      <td>208.0</td>\n",
       "      <td>301.0</td>\n",
       "      <td>35.2</td>\n",
       "      <td>6.0</td>\n",
       "      <td>33.394319</td>\n",
       "      <td>112.0</td>\n",
       "    </tr>\n",
       "    <tr>\n",
       "      <th>1182</th>\n",
       "      <td>54.0</td>\n",
       "      <td>78.0</td>\n",
       "      <td>205.0</td>\n",
       "      <td>1.0</td>\n",
       "      <td>43.8</td>\n",
       "      <td>12.0</td>\n",
       "      <td>4.2</td>\n",
       "      <td>206.0</td>\n",
       "      <td>180.0</td>\n",
       "      <td>1.67</td>\n",
       "      <td>6.6</td>\n",
       "      <td>2.0</td>\n",
       "      <td>NaN</td>\n",
       "      <td>363.0</td>\n",
       "      <td>49.6</td>\n",
       "      <td>5.9</td>\n",
       "      <td>20.278410</td>\n",
       "      <td>34.0</td>\n",
       "    </tr>\n",
       "    <tr>\n",
       "      <th>6915</th>\n",
       "      <td>59.0</td>\n",
       "      <td>90.0</td>\n",
       "      <td>417.0</td>\n",
       "      <td>1.0</td>\n",
       "      <td>43.4</td>\n",
       "      <td>9.0</td>\n",
       "      <td>4.5</td>\n",
       "      <td>327.0</td>\n",
       "      <td>114.0</td>\n",
       "      <td>1.65</td>\n",
       "      <td>7.6</td>\n",
       "      <td>2.0</td>\n",
       "      <td>NaN</td>\n",
       "      <td>347.0</td>\n",
       "      <td>32.9</td>\n",
       "      <td>6.1</td>\n",
       "      <td>32.917744</td>\n",
       "      <td>78.0</td>\n",
       "    </tr>\n",
       "    <tr>\n",
       "      <th>500</th>\n",
       "      <td>34.0</td>\n",
       "      <td>80.0</td>\n",
       "      <td>385.0</td>\n",
       "      <td>1.0</td>\n",
       "      <td>77.7</td>\n",
       "      <td>9.0</td>\n",
       "      <td>4.1</td>\n",
       "      <td>197.0</td>\n",
       "      <td>64.0</td>\n",
       "      <td>1.74</td>\n",
       "      <td>7.3</td>\n",
       "      <td>2.0</td>\n",
       "      <td>NaN</td>\n",
       "      <td>376.0</td>\n",
       "      <td>17.0</td>\n",
       "      <td>8.2</td>\n",
       "      <td>30.743489</td>\n",
       "      <td>30.0</td>\n",
       "    </tr>\n",
       "  </tbody>\n",
       "</table>\n",
       "</div>"
      ],
      "text/plain": [
       "       Age  Diastolic BP  Poverty index  Race  Red blood cells  \\\n",
       "1599  43.0          84.0          637.0   1.0             49.3   \n",
       "2794  72.0          96.0          154.0   2.0             43.4   \n",
       "1182  54.0          78.0          205.0   1.0             43.8   \n",
       "6915  59.0          90.0          417.0   1.0             43.4   \n",
       "500   34.0          80.0          385.0   1.0             77.7   \n",
       "\n",
       "      Sedimentation rate  Serum Albumin  Serum Cholesterol  Serum Iron  \\\n",
       "1599                10.0            5.0              253.0       134.0   \n",
       "2794                23.0            4.3              265.0       106.0   \n",
       "1182                12.0            4.2              206.0       180.0   \n",
       "6915                 9.0            4.5              327.0       114.0   \n",
       "500                  9.0            4.1              197.0        64.0   \n",
       "\n",
       "      Serum Magnesium  Serum Protein  Sex  Systolic BP   TIBC    TS  \\\n",
       "1599             1.59            7.7  1.0          NaN  490.0  27.3   \n",
       "2794             1.66            6.8  2.0        208.0  301.0  35.2   \n",
       "1182             1.67            6.6  2.0          NaN  363.0  49.6   \n",
       "6915             1.65            7.6  2.0          NaN  347.0  32.9   \n",
       "500              1.74            7.3  2.0          NaN  376.0  17.0   \n",
       "\n",
       "      White blood cells        BMI  Pulse pressure  \n",
       "1599                9.1  25.803007            34.0  \n",
       "2794                6.0  33.394319           112.0  \n",
       "1182                5.9  20.278410            34.0  \n",
       "6915                6.1  32.917744            78.0  \n",
       "500                 8.2  30.743489            30.0  "
      ]
     },
     "execution_count": 5,
     "metadata": {},
     "output_type": "execute_result"
    }
   ],
   "source": [
    "print(\"X_train shape: {}\".format(X_train.shape))\n",
    "X_train.head()"
   ]
  },
  {
   "cell_type": "markdown",
   "metadata": {
    "colab_type": "text",
    "id": "c_q2vf4XECvg"
   },
   "source": [
    "Our targets `y` will be whether or not the target died within 10 years. Run the next cell to see the target data series."
   ]
  },
  {
   "cell_type": "code",
   "execution_count": 6,
   "metadata": {
    "colab": {
     "base_uri": "https://localhost:8080/",
     "height": 374
    },
    "colab_type": "code",
    "id": "drkvmcbQD9S5",
    "outputId": "b7178c14-f6b1-4d24-e8d1-7fb77c241b9f"
   },
   "outputs": [
    {
     "data": {
      "text/plain": [
       "1599    False\n",
       "2794     True\n",
       "1182    False\n",
       "6915    False\n",
       "500     False\n",
       "1188     True\n",
       "9739    False\n",
       "3266    False\n",
       "6681    False\n",
       "8822    False\n",
       "5856     True\n",
       "3415    False\n",
       "9366    False\n",
       "7975    False\n",
       "1397    False\n",
       "6809    False\n",
       "9461    False\n",
       "9374    False\n",
       "1170     True\n",
       "158     False\n",
       "Name: time, dtype: bool"
      ]
     },
     "execution_count": 6,
     "metadata": {},
     "output_type": "execute_result"
    }
   ],
   "source": [
    "y_train.head(20)"
   ]
  },
  {
   "cell_type": "markdown",
   "metadata": {
    "colab_type": "text",
    "id": "P0OwPz5xh-uS"
   },
   "source": [
    "Use the next cell to examine individual cases and familiarize yourself with the features."
   ]
  },
  {
   "cell_type": "code",
   "execution_count": 7,
   "metadata": {
    "colab": {
     "base_uri": "https://localhost:8080/",
     "height": 374
    },
    "colab_type": "code",
    "id": "mms5-w98ykxM",
    "outputId": "485fe24d-947c-4ae0-aaa9-63ef3f1eb318"
   },
   "outputs": [
    {
     "name": "stdout",
     "output_type": "stream",
     "text": [
      "Age                    67.000000\n",
      "Diastolic BP           94.000000\n",
      "Poverty index         114.000000\n",
      "Race                    1.000000\n",
      "Red blood cells        43.800000\n",
      "Sedimentation rate     12.000000\n",
      "Serum Albumin           3.700000\n",
      "Serum Cholesterol     178.000000\n",
      "Serum Iron             73.000000\n",
      "Serum Magnesium         1.850000\n",
      "Serum Protein           7.000000\n",
      "Sex                     1.000000\n",
      "Systolic BP           140.000000\n",
      "TIBC                  311.000000\n",
      "TS                     23.500000\n",
      "White blood cells       4.300000\n",
      "BMI                    17.481227\n",
      "Pulse pressure         46.000000\n",
      "Name: 5856, dtype: float64\n",
      "\n",
      "Died within 10 years? True\n"
     ]
    }
   ],
   "source": [
    "i = 10\n",
    "print(X_train.iloc[i,:])\n",
    "print(\"\\nDied within 10 years? {}\".format(y_train.loc[y_train.index[i]]))"
   ]
  },
  {
   "cell_type": "markdown",
   "metadata": {
    "colab_type": "text",
    "id": "1VTEfpTXpamz"
   },
   "source": [
    "<a name='4'></a>\n",
    "## 4. Dealing with Missing Data\n",
    "\n",
    "Looking at our data in `X_train`, we see that some of the data is missing: some values in the output of the previous cell are marked as `NaN` (\"not a number\").\n",
    "\n",
    "Missing data is a common occurrence in data analysis, that can be due to a variety of reasons, such as measuring instrument malfunction, respondents not willing or not able to supply information, and errors in the data collection process.\n",
    "\n",
    "Let's examine the missing data pattern. `seaborn` is an alternative to `matplotlib` that has some convenient plotting functions for data analysis. We can use its `heatmap` function to easily visualize the missing data pattern.\n",
    "\n",
    "Run the cell below to plot the missing data: "
   ]
  },
  {
   "cell_type": "code",
   "execution_count": 8,
   "metadata": {
    "colab": {
     "base_uri": "https://localhost:8080/",
     "height": 719
    },
    "colab_type": "code",
    "id": "SPNsph0HirU-",
    "outputId": "14cc7dc6-49af-4e42-b9fe-7d4a935dd135"
   },
   "outputs": [
    {
     "data": {
      "image/png": "[encoded data removed]",
      "text/plain": [
       "<Figure size 432x288 with 1 Axes>"
      ]
     },
     "metadata": {
      "needs_background": "light"
     },
     "output_type": "display_data"
    },
    {
     "data": {
      "image/png": "[encoded data removed]",
      "text/plain": [
       "<Figure size 432x288 with 1 Axes>"
      ]
     },
     "metadata": {
      "needs_background": "light"
     },
     "output_type": "display_data"
    }
   ],
   "source": [
    "sns.heatmap(X_train.isnull(), cbar=False)\n",
    "plt.title(\"Training\")\n",
    "plt.show()\n",
    "\n",
    "sns.heatmap(X_val.isnull(), cbar=False)\n",
    "plt.title(\"Validation\")\n",
    "plt.show()"
   ]
  },
  {
   "cell_type": "markdown",
   "metadata": {},
   "source": [
    "For each feature, represented as a column, values that are present are shown in black, and missing values are set in a light color.\n",
    "\n",
    "From this plot, we can see that many values are missing for systolic blood pressure (`Systolic BP`).\n"
   ]
  },
  {
   "cell_type": "markdown",
   "metadata": {},
   "source": [
    "<a name='Ex-1'></a>\n",
    "### Exercise 1\n",
    "\n",
    "In the cell below, write a function to compute the fraction of cases with missing data. This will help us decide how we handle this missing data in the future."
   ]
  },
  {
   "cell_type": "markdown",
   "metadata": {},
   "source": [
    "<details>    \n",
    "<summary>\n",
    "    <font size=\"3\" color=\"darkgreen\"><b>Hints</b></font>\n",
    "</summary>\n",
    "<p>\n",
    "<ul>\n",
    "    <li> The <code>pandas.DataFrame.isnull()</code> method is helpful in this case.</li>\n",
    "    <li> Use the <code>pandas.DataFrame.any()</code> method and set the <code>axis</code> parameter.</li>\n",
    "    <li> Divide the total number of rows with missing data by the total number of rows. Remember that in Python, <code>True</code> values are equal to 1.</li>\n",
    "</ul>\n",
    "</p>"
   ]
  },
  {
   "cell_type": "code",
   "execution_count": 9,
   "metadata": {
    "colab": {},
    "colab_type": "code",
    "id": "zLfV7B8OyWBR"
   },
   "outputs": [],
   "source": [
    "# UNQ_C1 (UNIQUE CELL IDENTIFIER, DO NOT EDIT)\n",
    "def fraction_rows_missing(df):\n",
    "    '''\n",
    "    Return percent of rows with any missing\n",
    "    data in the dataframe. \n",
    "    \n",
    "    Input:\n",
    "        df (dataframe): a pandas dataframe with potentially missing data\n",
    "    Output:\n",
    "        frac_missing (float): fraction of rows with missing data\n",
    "    '''\n",
    "    ### START CODE HERE (REPLACE 'Pass' with your 'return' code) ###\n",
    "    return sum(df.isnull().any(axis=1)) / len(df)\n",
    "    ### END CODE HERE ###"
   ]
  },
  {
   "cell_type": "markdown",
   "metadata": {},
   "source": [
    "Test your function by running the cell below."
   ]
  },
  {
   "cell_type": "code",
   "execution_count": 10,
   "metadata": {
    "colab": {
     "base_uri": "https://localhost:8080/",
     "height": 170
    },
    "colab_type": "code",
    "id": "0U6tjKIkxaGy",
    "outputId": "cf128645-a131-4891-9aa8-7cd5934b432d"
   },
   "outputs": [
    {
     "name": "stdout",
     "output_type": "stream",
     "text": [
      "Example dataframe:\n",
      "\n",
      "     a    b\n",
      "0  NaN  1.0\n",
      "1  1.0  NaN\n",
      "2  1.0  0.0\n",
      "3  NaN  1.0\n",
      "\n",
      "Computed fraction missing: 0.75, expected: 0.75\n",
      "Fraction of rows missing from X_train: 0.699\n",
      "Fraction of rows missing from X_val: 0.704\n",
      "Fraction of rows missing from X_test: 0.000\n"
     ]
    }
   ],
   "source": [
    "df_test = pd.DataFrame({'a':[None, 1, 1, None], 'b':[1, None, 0, 1]})\n",
    "print(\"Example dataframe:\\n\")\n",
    "print(df_test)\n",
    "\n",
    "print(\"\\nComputed fraction missing: {}, expected: {}\".format(fraction_rows_missing(df_test), 0.75))\n",
    "print(f\"Fraction of rows missing from X_train: {fraction_rows_missing(X_train):.3f}\")\n",
    "print(f\"Fraction of rows missing from X_val: {fraction_rows_missing(X_val):.3f}\")\n",
    "print(f\"Fraction of rows missing from X_test: {fraction_rows_missing(X_test):.3f}\")"
   ]
  },
  {
   "cell_type": "markdown",
   "metadata": {
    "colab_type": "text",
    "id": "OBXhCGRZjCzM"
   },
   "source": [
    "We see that our train and validation sets have missing values, but luckily our test set has complete cases."
   ]
  },
  {
   "cell_type": "markdown",
   "metadata": {
    "colab_type": "text",
    "id": "DvYzlx7rlG-R"
   },
   "source": [
    "As a first pass, we will begin with a **complete case analysis**, dropping all of the rows with any missing data. Run the following cell to drop these rows from our train and validation sets. "
   ]
  },
  {
   "cell_type": "code",
   "execution_count": 11,
   "metadata": {
    "colab": {},
    "colab_type": "code",
    "id": "C1Ev-eq83hP_"
   },
   "outputs": [],
   "source": [
    "X_train_dropped = X_train.dropna(axis='rows')\n",
    "y_train_dropped = y_train.loc[X_train_dropped.index]\n",
    "X_val_dropped = X_val.dropna(axis='rows')\n",
    "y_val_dropped = y_val.loc[X_val_dropped.index]"
   ]
  },
  {
   "cell_type": "markdown",
   "metadata": {
    "colab_type": "text",
    "id": "VDVUZ810pFNQ"
   },
   "source": [
    "<a name='5'></a>\n",
    "## 5. Decision Trees\n",
    "\n",
    "Having just learned about decision trees, you choose to use a decision tree classifier. Use scikit-learn to build a decision tree for the hospital dataset using the train set."
   ]
  },
  {
   "cell_type": "code",
   "execution_count": 12,
   "metadata": {
    "colab": {
     "base_uri": "https://localhost:8080/",
     "height": 119
    },
    "colab_type": "code",
    "id": "q7qeLJyEpUxF",
    "outputId": "44f1e245-de92-4028-af9a-87d4bf4c5285"
   },
   "outputs": [
    {
     "data": {
      "text/plain": [
       "DecisionTreeClassifier(random_state=10)"
      ]
     },
     "execution_count": 12,
     "metadata": {},
     "output_type": "execute_result"
    }
   ],
   "source": [
    "dt = DecisionTreeClassifier(max_depth=None, random_state=10)\n",
    "dt.fit(X_train_dropped, y_train_dropped)"
   ]
  },
  {
   "cell_type": "markdown",
   "metadata": {
    "colab_type": "text",
    "id": "t5EGqsTCp3OV"
   },
   "source": [
    "Next we will evaluate our model. We'll use C-Index for evaluation.\n",
    "\n",
    "> Remember from lesson 4 of week 1 that the C-Index evaluates the ability of a model to differentiate between different classes, by quantifying how often, when considering all pairs of patients (A, B), the model says that patient A has a higher risk score than patient B when, in the observed data, patient A actually died and patient B actually lived. In our case, our model is a binary classifier, where each risk score is either 1 (the model predicts that the patient will die) or 0 (the patient will live).\n",
    ">\n",
    "> More formally, defining _permissible pairs_ of patients as pairs where the outcomes are different, _concordant pairs_ as permissible pairs where the patient that died had a higher risk score (i.e. our model predicted 1 for the patient that died and 0 for the one that lived), and _ties_ as permissible pairs where the risk scores were equal (i.e. our model predicted 1 for both patients or 0 for both patients), the C-Index is equal to:\n",
    ">\n",
    "> $$\\text{C-Index} = \\frac{\\#\\text{concordant pairs} + 0.5\\times \\#\\text{ties}}{\\#\\text{permissible pairs}}$$\n",
    "\n",
    "Run the next cell to compute the C-Index on the train and validation set (we've given you an implementation this time)."
   ]
  },
  {
   "cell_type": "code",
   "execution_count": 13,
   "metadata": {
    "colab": {
     "base_uri": "https://localhost:8080/",
     "height": 51
    },
    "colab_type": "code",
    "id": "mg9WsT-pqgjZ",
    "outputId": "6470e060-3efe-487a-e107-85d0fd0f1b92"
   },
   "outputs": [
    {
     "name": "stdout",
     "output_type": "stream",
     "text": [
      "Train C-Index: 1.0\n",
      "Val C-Index: 0.5629321808510638\n"
     ]
    }
   ],
   "source": [
    "y_train_preds = dt.predict_proba(X_train_dropped)[:, 1]\n",
    "print(f\"Train C-Index: {cindex(y_train_dropped.values, y_train_preds)}\")\n",
    "\n",
    "\n",
    "y_val_preds = dt.predict_proba(X_val_dropped)[:, 1]\n",
    "print(f\"Val C-Index: {cindex(y_val_dropped.values, y_val_preds)}\")"
   ]
  },
  {
   "cell_type": "markdown",
   "metadata": {
    "colab_type": "text",
    "id": "HJ4UtZgQqng-"
   },
   "source": [
    "Unfortunately your tree seems to be overfitting: it fits the training data so closely that it doesn't generalize well to other samples such as those from the validation set.\n",
    "\n",
    "> The training C-index comes out to 1.0 because, when initializing `DecisionTreeClasifier`, we have left `max_depth` and `min_samples_split` unspecified. The resulting decision tree will therefore keep splitting as far as it can, which pretty much guarantees a pure fit to the training data.\n",
    "\n",
    "To handle this, you can change some of the hyperparameters of our tree. \n"
   ]
  },
  {
   "cell_type": "markdown",
   "metadata": {},
   "source": [
    "<a name='Ex-2'></a>\n",
    "### Exercise 2\n",
    "\n",
    "Try and find a set of hyperparameters that improves the generalization to the validation set and recompute the C-index. If you do it right, you should get C-index above 0.6 for the validation set. \n",
    "\n",
    "You can refer to the documentation for the sklearn [DecisionTreeClassifier](https://scikit-learn.org/stable/modules/generated/sklearn.tree.DecisionTreeClassifier.html)."
   ]
  },
  {
   "cell_type": "markdown",
   "metadata": {},
   "source": [
    "<details>    \n",
    "<summary>\n",
    "    <font size=\"3\" color=\"darkgreen\"><b>Hints</b></font>\n",
    "</summary>\n",
    "<p>\n",
    "<ul>\n",
    "    <li> Try limiting the depth of the tree (<code>'max_depth'</code>).</li>\n",
    "</ul>\n",
    "</p>"
   ]
  },
  {
   "cell_type": "code",
   "execution_count": 14,
   "metadata": {
    "colab": {},
    "colab_type": "code",
    "id": "RhbNgoVpzNod"
   },
   "outputs": [],
   "source": [
    "# Experiment with different hyperparameters for the DecisionTreeClassifier\n",
    "# until you get a c-index above 0.6 for the validation set\n",
    "dt_hyperparams = {\n",
    "    # set your own hyperparameters below, such as 'min_samples_split': 1\n",
    "\n",
    "    ### START CODE HERE ###\n",
    "    \n",
    "    'max_depth': 3,\n",
    "    \n",
    "    ### END CODE HERE ###\n",
    "}"
   ]
  },
  {
   "cell_type": "markdown",
   "metadata": {
    "colab_type": "text",
    "id": "kzO-2H3fzCJ2"
   },
   "source": [
    "Run the next cell to fit and evaluate the regularized tree."
   ]
  },
  {
   "cell_type": "code",
   "execution_count": 15,
   "metadata": {},
   "outputs": [
    {
     "name": "stdout",
     "output_type": "stream",
     "text": [
      "Train C-Index: 0.688738755448391\n",
      "Val C-Index (expected > 0.6): 0.6302692819148936\n"
     ]
    }
   ],
   "source": [
    "# UNQ_C2 (UNIQUE CELL IDENTIFIER, DO NOT EDIT)\n",
    "dt_reg = DecisionTreeClassifier(**dt_hyperparams, random_state=10)\n",
    "dt_reg.fit(X_train_dropped, y_train_dropped)\n",
    "\n",
    "y_train_preds = dt_reg.predict_proba(X_train_dropped)[:, 1]\n",
    "y_val_preds = dt_reg.predict_proba(X_val_dropped)[:, 1]\n",
    "print(f\"Train C-Index: {cindex(y_train_dropped.values, y_train_preds)}\")\n",
    "print(f\"Val C-Index (expected > 0.6): {cindex(y_val_dropped.values, y_val_preds)}\")"
   ]
  },
  {
   "cell_type": "markdown",
   "metadata": {
    "colab_type": "text",
    "id": "H2ofWJB76j9B"
   },
   "source": [
    "If you used a low `max_depth` you can print the entire tree. This allows for easy interpretability. Run the next cell to print the tree splits. "
   ]
  },
  {
   "cell_type": "code",
   "execution_count": 28,
   "metadata": {
    "colab": {
     "base_uri": "https://localhost:8080/",
     "height": 551
    },
    "colab_type": "code",
    "id": "GY-15i0b4MKw",
    "outputId": "c902a2fc-f679-46d3-a4e2-900c0e3f7c17"
   },
   "outputs": [
    {
     "data": {
      "text/plain": [
       "<pydotplus.graphviz.Dot at 0x1984bd5e448>"
      ]
     },
     "execution_count": 28,
     "metadata": {},
     "output_type": "execute_result"
    }
   ],
   "source": [
    "dot_data = StringIO()\n",
    "export_graphviz(dt_reg, feature_names=X_train_dropped.columns, out_file=dot_data,  \n",
    "                filled=True, rounded=True, proportion=True, special_characters=True,\n",
    "                impurity=False, class_names=['neg', 'pos'], precision=2)\n",
    "graph = pydotplus.graph_from_dot_data(dot_data.getvalue())  \n",
    "Image(graph.create_png())"
   ]
  },
  {
   "cell_type": "markdown",
   "metadata": {},
   "source": [
    "> **Overfitting, underfitting, and the bias-variance tradeoff**\n",
    ">\n",
    "> If you tested several values of `max_depth`, you may have seen that a value of `3` gives training and validation C-Indices of about `0.689` and `0.630`, and that a `max_depth` of `2` gives better agreement with values of about `0.653` and `0.607`. In the latter case, we have further reduced overfitting, at the cost of a minor loss in predictive performance.\n",
    ">\n",
    "> Contrast this with a `max_depth` value of `1`, which results in C-Indices of about `0.597` for the training set and `0.598` for the validation set: we have eliminated overfitting but with a much stronger degradation of predictive performance.\n",
    ">\n",
    "> Lower predictive performance on the training and validation sets is indicative of the model _underfitting_ the data: it neither learns enough from the training data nor is able to generalize to unseen data (the validation data in our case).\n",
    ">\n",
    "> Finding a model that minimizes and acceptably balances underfitting and overfitting (e.g. selecting the model with a `max_depth` of `2` over the other values) is a common problem in machine learning that is known as the _bias-variance tradeoff_."
   ]
  },
  {
   "cell_type": "markdown",
   "metadata": {
    "colab_type": "text",
    "id": "3FQOUmmwtNtX"
   },
   "source": [
    "<a name='6'></a>\n",
    "## 6. Random Forests\n",
    "\n",
    "No matter how you choose hyperparameters, a single decision tree is prone to overfitting. To solve this problem, you can try **random forests**, which combine predictions from many different trees to create a robust classifier. \n",
    "\n",
    "As before, we will use scikit-learn to build a random forest for the data. We will use the default hyperparameters."
   ]
  },
  {
   "cell_type": "code",
   "execution_count": 30,
   "metadata": {
    "colab": {
     "base_uri": "https://localhost:8080/",
     "height": 153
    },
    "colab_type": "code",
    "id": "OKQco4cItPY2",
    "outputId": "996f244e-5d96-4562-b17c-834986380dfe"
   },
   "outputs": [
    {
     "data": {
      "text/plain": [
       "RandomForestClassifier(random_state=10)"
      ]
     },
     "execution_count": 30,
     "metadata": {},
     "output_type": "execute_result"
    }
   ],
   "source": [
    "rf = RandomForestClassifier(n_estimators=100, random_state=10)\n",
    "rf.fit(X_train_dropped, y_train_dropped)"
   ]
  },
  {
   "cell_type": "markdown",
   "metadata": {
    "colab_type": "text",
    "id": "RYu0LeEww2lV"
   },
   "source": [
    "Now compute and report the C-Index for the random forest on the training and validation set."
   ]
  },
  {
   "cell_type": "code",
   "execution_count": 31,
   "metadata": {
    "colab": {
     "base_uri": "https://localhost:8080/",
     "height": 51
    },
    "colab_type": "code",
    "id": "5ehZ4LRbw8Un",
    "outputId": "78624185-6943-405f-e2e6-c25627be66f4"
   },
   "outputs": [
    {
     "name": "stdout",
     "output_type": "stream",
     "text": [
      "Train C-Index: 1.0\n",
      "Val C-Index: 0.6660488696808511\n"
     ]
    }
   ],
   "source": [
    "y_train_rf_preds = rf.predict_proba(X_train_dropped)[:, 1]\n",
    "print(f\"Train C-Index: {cindex(y_train_dropped.values, y_train_rf_preds)}\")\n",
    "\n",
    "y_val_rf_preds = rf.predict_proba(X_val_dropped)[:, 1]\n",
    "print(f\"Val C-Index: {cindex(y_val_dropped.values, y_val_rf_preds)}\")"
   ]
  },
  {
   "cell_type": "markdown",
   "metadata": {
    "colab_type": "text",
    "id": "qkcdnwYgw80C"
   },
   "source": [
    "Training a random forest with the default hyperparameters results in a model that has better predictive performance than individual decision trees as in the previous section, but this model is overfitting.\n",
    "\n",
    "We therefore need to tune (or optimize) the hyperparameters, to find a model that both has good predictive performance and minimizes overfitting.\n",
    "\n",
    "The hyperparameters we choose to adjust will be:\n",
    "\n",
    "- `n_estimators`: the number of trees used in the forest.\n",
    "- `max_depth`: the maximum depth of each tree.\n",
    "- `min_samples_leaf`: the minimum number (if `int`) or proportion (if `float`) of samples in a leaf.\n",
    "\n",
    "The approach we implement to tune the hyperparameters is known as a grid search:\n",
    "\n",
    "- We define a set of possible values for each of the target hyperparameters.\n",
    "\n",
    "- A model is trained and evaluated for every possible combination of hyperparameters.\n",
    "\n",
    "- The best performing set of hyperparameters is returned.\n",
    "\n",
    "The cell below implements a hyperparameter grid search, using the C-Index to evaluate each tested model."
   ]
  },
  {
   "cell_type": "code",
   "execution_count": 32,
   "metadata": {
    "colab": {
     "base_uri": "https://localhost:8080/",
     "height": 249
    },
    "colab_type": "code",
    "id": "eHX56jeLzvA7",
    "outputId": "24f2082c-7e52-4713-d83e-4cf77db767eb"
   },
   "outputs": [],
   "source": [
    "def holdout_grid_search(clf, X_train_hp, y_train_hp, X_val_hp, y_val_hp, hyperparams, fixed_hyperparams={}):\n",
    "    '''\n",
    "    Conduct hyperparameter grid search on hold out validation set. Use holdout validation.\n",
    "    Hyperparameters are input as a dictionary mapping each hyperparameter name to the\n",
    "    range of values they should iterate over. Use the cindex function as your evaluation\n",
    "    function.\n",
    "\n",
    "    Input:\n",
    "        clf: sklearn classifier\n",
    "        X_train_hp (dataframe): dataframe for training set input variables\n",
    "        y_train_hp (dataframe): dataframe for training set targets\n",
    "        X_val_hp (dataframe): dataframe for validation set input variables\n",
    "        y_val_hp (dataframe): dataframe for validation set targets\n",
    "        hyperparams (dict): hyperparameter dictionary mapping hyperparameter\n",
    "                            names to range of values for grid search\n",
    "        fixed_hyperparams (dict): dictionary of fixed hyperparameters that\n",
    "                                  are not included in the grid search\n",
    "\n",
    "    Output:\n",
    "        best_estimator (sklearn classifier): fitted sklearn classifier with best performance on\n",
    "                                             validation set\n",
    "        best_hyperparams (dict): hyperparameter dictionary mapping hyperparameter\n",
    "                                 names to values in best_estimator\n",
    "    '''\n",
    "    best_estimator = None\n",
    "    best_hyperparams = {}\n",
    "    \n",
    "    # hold best running score\n",
    "    best_score = 0.0\n",
    "\n",
    "    # get list of param values\n",
    "    lists = hyperparams.values()\n",
    "    \n",
    "    # get all param combinations\n",
    "    param_combinations = list(itertools.product(*lists))\n",
    "    total_param_combinations = len(param_combinations)\n",
    "\n",
    "    # iterate through param combinations\n",
    "    for i, params in enumerate(param_combinations, 1):\n",
    "        # fill param dict with params\n",
    "        param_dict = {}\n",
    "        for param_index, param_name in enumerate(hyperparams):\n",
    "            param_dict[param_name] = params[param_index]\n",
    "            \n",
    "        # create estimator with specified params\n",
    "        estimator = clf(**param_dict, **fixed_hyperparams)\n",
    "\n",
    "        # fit estimator\n",
    "        estimator.fit(X_train_hp, y_train_hp)\n",
    "        \n",
    "        # get predictions on validation set\n",
    "        preds = estimator.predict_proba(X_val_hp)\n",
    "        \n",
    "        # compute cindex for predictions\n",
    "        estimator_score = cindex(y_val_hp, preds[:,1])\n",
    "\n",
    "        print(f'[{i}/{total_param_combinations}] {param_dict}')\n",
    "        print(f'Val C-Index: {estimator_score}\\n')\n",
    "\n",
    "        # if new high score, update high score, best estimator\n",
    "        # and best params \n",
    "        if estimator_score >= best_score:\n",
    "                best_score = estimator_score\n",
    "                best_estimator = estimator\n",
    "                best_hyperparams = param_dict\n",
    "\n",
    "    # add fixed hyperparamters to best combination of variable hyperparameters\n",
    "    best_hyperparams.update(fixed_hyperparams)\n",
    "    \n",
    "    return best_estimator, best_hyperparams"
   ]
  },
  {
   "cell_type": "markdown",
   "metadata": {},
   "source": [
    "<a name='Ex-3'></a>\n",
    "### Exercise 3\n",
    "\n",
    "In the cell below, define the values you want to run the hyperparameter grid search on, and run the cell to find the best-performing set of hyperparameters.\n",
    "\n",
    "Your objective is to get a C-Index above `0.6` on both the train and validation set."
   ]
  },
  {
   "cell_type": "markdown",
   "metadata": {},
   "source": [
    "<details>    \n",
    "<summary>\n",
    "    <font size=\"3\" color=\"darkgreen\"><b>Hints</b></font>\n",
    "</summary>\n",
    "<p>\n",
    "<ul>\n",
    "    <li>n_estimators: try values greater than 100</li>\n",
    "    <li>max_depth: try values in the range 1 to 100</li>\n",
    "    <li>min_samples_leaf: try float values below .5 and/or int values greater than 2</li>\n",
    "</ul>\n",
    "</p>"
   ]
  },
  {
   "cell_type": "code",
   "execution_count": 33,
   "metadata": {},
   "outputs": [],
   "source": [
    "def random_forest_grid_search(X_train_dropped, y_train_dropped, X_val_dropped, y_val_dropped):\n",
    "\n",
    "    # Define ranges for the chosen random forest hyperparameters \n",
    "    hyperparams = {\n",
    "        \n",
    "        ### START CODE HERE (REPLACE array values with your code) ###\n",
    "\n",
    "        # how many trees should be in the forest (int)\n",
    "        'n_estimators': [100, 150, 200],\n",
    "\n",
    "        # the maximum depth of trees in the forest (int)\n",
    "        \n",
    "        'max_depth': [3, 4, 5],\n",
    "        \n",
    "        # the minimum number of samples in a leaf as a fraction\n",
    "        # of the total number of samples in the training set\n",
    "        # Can be int (in which case that is the minimum number)\n",
    "        # or float (in which case the minimum is that fraction of the\n",
    "        # number of training set samples)\n",
    "        'min_samples_leaf': [3, 4],\n",
    "\n",
    "        ### END CODE HERE ###\n",
    "    }\n",
    "\n",
    "    \n",
    "    fixed_hyperparams = {\n",
    "        'random_state': 10,\n",
    "    }\n",
    "    \n",
    "    rf = RandomForestClassifier\n",
    "\n",
    "    best_rf, best_hyperparams = holdout_grid_search(rf, X_train_dropped, y_train_dropped,\n",
    "                                                    X_val_dropped, y_val_dropped, hyperparams,\n",
    "                                                    fixed_hyperparams)\n",
    "\n",
    "    print(f\"Best hyperparameters:\\n{best_hyperparams}\")\n",
    "\n",
    "    \n",
    "    y_train_best = best_rf.predict_proba(X_train_dropped)[:, 1]\n",
    "    print(f\"Train C-Index: {cindex(y_train_dropped, y_train_best)}\")\n",
    "\n",
    "    y_val_best = best_rf.predict_proba(X_val_dropped)[:, 1]\n",
    "    print(f\"Val C-Index: {cindex(y_val_dropped, y_val_best)}\")\n",
    "    \n",
    "    # add fixed hyperparamters to best combination of variable hyperparameters\n",
    "    best_hyperparams.update(fixed_hyperparams)\n",
    "    \n",
    "    return best_rf, best_hyperparams"
   ]
  },
  {
   "cell_type": "code",
   "execution_count": 34,
   "metadata": {},
   "outputs": [
    {
     "name": "stdout",
     "output_type": "stream",
     "text": [
      "[1/18] {'n_estimators': 100, 'max_depth': 3, 'min_samples_leaf': 3}\n",
      "Val C-Index: 0.6772273936170212\n",
      "\n",
      "[2/18] {'n_estimators': 100, 'max_depth': 3, 'min_samples_leaf': 4}\n",
      "Val C-Index: 0.6771110372340425\n",
      "\n",
      "[3/18] {'n_estimators': 100, 'max_depth': 4, 'min_samples_leaf': 3}\n",
      "Val C-Index: 0.6712599734042554\n",
      "\n",
      "[4/18] {'n_estimators': 100, 'max_depth': 4, 'min_samples_leaf': 4}\n",
      "Val C-Index: 0.6732047872340425\n",
      "\n",
      "[5/18] {'n_estimators': 100, 'max_depth': 5, 'min_samples_leaf': 3}\n",
      "Val C-Index: 0.6697972074468085\n",
      "\n",
      "[6/18] {'n_estimators': 100, 'max_depth': 5, 'min_samples_leaf': 4}\n",
      "Val C-Index: 0.6693317819148936\n",
      "\n",
      "[7/18] {'n_estimators': 150, 'max_depth': 3, 'min_samples_leaf': 3}\n",
      "Val C-Index: 0.6797207446808511\n",
      "\n",
      "[8/18] {'n_estimators': 150, 'max_depth': 3, 'min_samples_leaf': 4}\n",
      "Val C-Index: 0.6803523936170213\n",
      "\n",
      "[9/18] {'n_estimators': 150, 'max_depth': 4, 'min_samples_leaf': 3}\n",
      "Val C-Index: 0.6743184840425532\n",
      "\n",
      "[10/18] {'n_estimators': 150, 'max_depth': 4, 'min_samples_leaf': 4}\n",
      "Val C-Index: 0.6769614361702128\n",
      "\n",
      "[11/18] {'n_estimators': 150, 'max_depth': 5, 'min_samples_leaf': 3}\n",
      "Val C-Index: 0.673936170212766\n",
      "\n",
      "[12/18] {'n_estimators': 150, 'max_depth': 5, 'min_samples_leaf': 4}\n",
      "Val C-Index: 0.6719082446808511\n",
      "\n",
      "[13/18] {'n_estimators': 200, 'max_depth': 3, 'min_samples_leaf': 3}\n",
      "Val C-Index: 0.6809175531914894\n",
      "\n",
      "[14/18] {'n_estimators': 200, 'max_depth': 3, 'min_samples_leaf': 4}\n",
      "Val C-Index: 0.6812832446808511\n",
      "\n",
      "[15/18] {'n_estimators': 200, 'max_depth': 4, 'min_samples_leaf': 3}\n",
      "Val C-Index: 0.6752659574468085\n",
      "\n",
      "[16/18] {'n_estimators': 200, 'max_depth': 4, 'min_samples_leaf': 4}\n",
      "Val C-Index: 0.6782912234042553\n",
      "\n",
      "[17/18] {'n_estimators': 200, 'max_depth': 5, 'min_samples_leaf': 3}\n",
      "Val C-Index: 0.6745844414893617\n",
      "\n",
      "[18/18] {'n_estimators': 200, 'max_depth': 5, 'min_samples_leaf': 4}\n",
      "Val C-Index: 0.6736868351063829\n",
      "\n",
      "Best hyperparameters:\n",
      "{'n_estimators': 200, 'max_depth': 3, 'min_samples_leaf': 4, 'random_state': 10}\n",
      "Train C-Index: 0.7791152740424743\n",
      "Val C-Index: 0.6812832446808511\n"
     ]
    }
   ],
   "source": [
    "best_rf, best_hyperparams = random_forest_grid_search(X_train_dropped, y_train_dropped, X_val_dropped, y_val_dropped)"
   ]
  },
  {
   "cell_type": "markdown",
   "metadata": {
    "colab_type": "text",
    "id": "-hTrzOWH3zl2"
   },
   "source": [
    "Finally, evaluate the model on the test set. This is a crucial step, as trying out many combinations of hyperparameters and evaluating them on the validation set could result in a model that ends up overfitting the validation set. We therefore need to check if the model performs well on unseen data, which is the role of the test set, which we have held out until now."
   ]
  },
  {
   "cell_type": "code",
   "execution_count": 35,
   "metadata": {
    "colab": {
     "base_uri": "https://localhost:8080/",
     "height": 34
    },
    "colab_type": "code",
    "id": "sjkGhi9n32tS",
    "outputId": "204242c9-993e-4133-bcf4-c7040f72d3c3"
   },
   "outputs": [
    {
     "name": "stdout",
     "output_type": "stream",
     "text": [
      "Test C-Index: 0.7000063288468841\n"
     ]
    }
   ],
   "source": [
    "# UNQ_C3 (UNIQUE CELL IDENTIFIER, DO NOT EDIT)\n",
    "y_test_best = best_rf.predict_proba(X_test)[:, 1]\n",
    "\n",
    "print(f\"Test C-Index: {cindex(y_test.values, y_test_best)}\")"
   ]
  },
  {
   "cell_type": "markdown",
   "metadata": {},
   "source": [
    "Your C-Index on the test set should be greater than `0.6`."
   ]
  },
  {
   "cell_type": "markdown",
   "metadata": {
    "colab_type": "text",
    "id": "WsHviHfFKiD8"
   },
   "source": [
    "<a name='7'></a>\n",
    "## 7. Imputation\n",
    "\n",
    "You've now built and optimized a random forest model on our data. However, there was still a drop in test C-Index. This might be because you threw away more than half of the data of our data because of missing values for systolic blood pressure. Instead, we can try filling in, or imputing, these values. \n",
    "\n",
    "First, let's explore to see if our data is missing at random or not. Let's plot histograms of the dropped rows against each of the covariates (aside from systolic blood pressure) to see if there is a trend. Compare these to the histograms of the feature in the entire dataset. Try to see if one of the covariates has a signficantly different distribution in the two subsets."
   ]
  },
  {
   "cell_type": "code",
   "execution_count": 36,
   "metadata": {
    "scrolled": false
   },
   "outputs": [
    {
     "data": {
      "image/png": "[encoded data removed]",
      "text/plain": [
       "<Figure size 432x288 with 1 Axes>"
      ]
     },
     "metadata": {
      "needs_background": "light"
     },
     "output_type": "display_data"
    },
    {
     "data": {
      "image/png": "[encoded data removed]",
      "text/plain": [
       "<Figure size 432x288 with 1 Axes>"
      ]
     },
     "metadata": {
      "needs_background": "light"
     },
     "output_type": "display_data"
    },
    {
     "data": {
      "image/png": "[encoded data removed]",
      "text/plain": [
       "<Figure size 432x288 with 1 Axes>"
      ]
     },
     "metadata": {
      "needs_background": "light"
     },
     "output_type": "display_data"
    },
    {
     "data": {
      "image/png": "[encoded data removed]",
      "text/plain": [
       "<Figure size 432x288 with 1 Axes>"
      ]
     },
     "metadata": {
      "needs_background": "light"
     },
     "output_type": "display_data"
    },
    {
     "data": {
      "image/png": "[encoded data removed]",
      "text/plain": [
       "<Figure size 432x288 with 1 Axes>"
      ]
     },
     "metadata": {
      "needs_background": "light"
     },
     "output_type": "display_data"
    },
    {
     "data": {
      "image/png": "[encoded data removed]",
      "text/plain": [
       "<Figure size 432x288 with 1 Axes>"
      ]
     },
     "metadata": {
      "needs_background": "light"
     },
     "output_type": "display_data"
    },
    {
     "data": {
      "image/png": "[encoded data removed]",
      "text/plain": [
       "<Figure size 432x288 with 1 Axes>"
      ]
     },
     "metadata": {
      "needs_background": "light"
     },
     "output_type": "display_data"
    },
    {
     "data": {
      "image/png": "[encoded data removed]",
      "text/plain": [
       "<Figure size 432x288 with 1 Axes>"
      ]
     },
     "metadata": {
      "needs_background": "light"
     },
     "output_type": "display_data"
    },
    {
     "data": {
      "image/png": "[encoded data removed]",
      "text/plain": [
       "<Figure size 432x288 with 1 Axes>"
      ]
     },
     "metadata": {
      "needs_background": "light"
     },
     "output_type": "display_data"
    },
    {
     "data": {
      "image/png": "[encoded data removed]",
      "text/plain": [
       "<Figure size 432x288 with 1 Axes>"
      ]
     },
     "metadata": {
      "needs_background": "light"
     },
     "output_type": "display_data"
    },
    {
     "data": {
      "image/png": "[encoded data removed]",
      "text/plain": [
       "<Figure size 432x288 with 1 Axes>"
      ]
     },
     "metadata": {
      "needs_background": "light"
     },
     "output_type": "display_data"
    },
    {
     "data": {
      "image/png": "[encoded data removed]",
      "text/plain": [
       "<Figure size 432x288 with 1 Axes>"
      ]
     },
     "metadata": {
      "needs_background": "light"
     },
     "output_type": "display_data"
    },
    {
     "data": {
      "image/png": "[encoded data removed]",
      "text/plain": [
       "<Figure size 432x288 with 1 Axes>"
      ]
     },
     "metadata": {
      "needs_background": "light"
     },
     "output_type": "display_data"
    },
    {
     "data": {
      "image/png": "[encoded data removed]",
      "text/plain": [
       "<Figure size 432x288 with 1 Axes>"
      ]
     },
     "metadata": {
      "needs_background": "light"
     },
     "output_type": "display_data"
    },
    {
     "data": {
      "image/png": "[encoded data removed]",
      "text/plain": [
       "<Figure size 432x288 with 1 Axes>"
      ]
     },
     "metadata": {
      "needs_background": "light"
     },
     "output_type": "display_data"
    },
    {
     "data": {
      "image/png": "[encoded data removed]",
      "text/plain": [
       "<Figure size 432x288 with 1 Axes>"
      ]
     },
     "metadata": {
      "needs_background": "light"
     },
     "output_type": "display_data"
    },
    {
     "data": {
      "image/png": "[encoded data removed]",
      "text/plain": [
       "<Figure size 432x288 with 1 Axes>"
      ]
     },
     "metadata": {
      "needs_background": "light"
     },
     "output_type": "display_data"
    }
   ],
   "source": [
    "dropped_rows = X_train[X_train.isnull().any(axis=1)]\n",
    "\n",
    "columns_except_Systolic_BP = [col for col in X_train.columns if col not in ['Systolic BP']]\n",
    "\n",
    "for col in columns_except_Systolic_BP:\n",
    "    sns.distplot(X_train.loc[:, col], norm_hist=True, kde=False, label='full data')\n",
    "    sns.distplot(dropped_rows.loc[:, col], norm_hist=True, kde=False, label='without missing data')\n",
    "    plt.legend()\n",
    "\n",
    "    plt.show()"
   ]
  },
  {
   "cell_type": "markdown",
   "metadata": {
    "colab_type": "text",
    "id": "4OFcONx8TbNn"
   },
   "source": [
    "Most of the covariates are distributed similarly whether or not we have discarded rows with missing data. In other words missingness of the data is independent of these covariates.\n",
    "\n",
    "If this had been true across *all* covariates, then the data would have been said to be **missing completely at random (MCAR)**.\n",
    "\n",
    "But when considering the age covariate, we see that much more data tends to be missing for patients over 65. The reason could be that blood pressure was measured less frequently for old people to avoid placing additional burden on them.\n",
    "\n",
    "As missingness is related to one or more covariates, the missing data is said to be **missing at random (MAR)**.\n",
    "\n",
    "Based on the information we have, there is however no reason to believe that the _values_ of the missing data — or specifically the values of the missing systolic blood pressures — are related to the age of the patients. \n",
    "If this was the case, then this data would be said to be **missing not at random (MNAR)**."
   ]
  },
  {
   "cell_type": "markdown",
   "metadata": {
    "colab_type": "text",
    "id": "WwGi6hXjUCO8"
   },
   "source": [
    "<a name='8'></a>\n",
    "## 8. Error Analysis\n",
    "\n",
    "<a name='Ex-4'></a>\n",
    "### Exercise 4\n",
    "Using the information from the plots above, try to find a subgroup of the test data on which the model performs poorly. You should be able to easily find a subgroup of at least 250 cases on which the model has a C-Index of less than 0.69."
   ]
  },
  {
   "cell_type": "markdown",
   "metadata": {},
   "source": [
    "<details>    \n",
    "<summary>\n",
    "    <font size=\"3\" color=\"darkgreen\"><b>Hints</b></font>\n",
    "</summary>\n",
    "<p>\n",
    "<ul>\n",
    "    <li> Define a mask using a feature and a threshold, e.g. patients with a BMI below 20: <code>mask = X_test['BMI'] < 20 </code>. </li>\n",
    "    <li> Try to find a subgroup for which the model had little data.</li>\n",
    "</ul>\n",
    "</p>"
   ]
  },
  {
   "cell_type": "code",
   "execution_count": 37,
   "metadata": {
    "colab": {
     "base_uri": "https://localhost:8080/",
     "height": 51
    },
    "colab_type": "code",
    "id": "TzoMtJL604Ni",
    "outputId": "551875f2-8deb-497f-dd47-4edf86ca635f"
   },
   "outputs": [],
   "source": [
    "# UNQ_C4 (UNIQUE CELL IDENTIFIER, DO NOT EDIT)\n",
    "def bad_subset(forest, X_test, y_test):\n",
    "    # define mask to select large subset with poor performance\n",
    "    # currently mask defines the entire set\n",
    "    \n",
    "    ### START CODE HERE (REPLACE the code after 'mask =' with your code) ###\n",
    "    mask = X_test.Age < 40\n",
    "    ### END CODE HERE ###\n",
    "\n",
    "    X_subgroup = X_test[mask]\n",
    "    y_subgroup = y_test[mask]\n",
    "    subgroup_size = len(X_subgroup)\n",
    "\n",
    "    y_subgroup_preds = forest.predict_proba(X_subgroup)[:, 1]\n",
    "    performance = cindex(y_subgroup.values, y_subgroup_preds)\n",
    "    \n",
    "    return performance, subgroup_size"
   ]
  },
  {
   "cell_type": "markdown",
   "metadata": {
    "colab_type": "text",
    "id": "QcMz-ved01uW"
   },
   "source": [
    "#### Test Your Work"
   ]
  },
  {
   "cell_type": "code",
   "execution_count": 38,
   "metadata": {},
   "outputs": [
    {
     "name": "stdout",
     "output_type": "stream",
     "text": [
      "Subgroup size should greater than 250, performance should be less than 0.69 \n",
      "Subgroup size: 586, C-Index: 0.6274714828897339\n"
     ]
    }
   ],
   "source": [
    "performance, subgroup_size = bad_subset(best_rf, X_test, y_test)\n",
    "print(\"Subgroup size should greater than 250, performance should be less than 0.69 \")\n",
    "print(f\"Subgroup size: {subgroup_size}, C-Index: {performance}\")"
   ]
  },
  {
   "cell_type": "markdown",
   "metadata": {},
   "source": [
    "#### Expected Output\n",
    "Note, your actual output will vary depending on the hyper-parameters that you chose and the mask that you chose.\n",
    "- Make sure that the c-index is less than 0.69\n",
    "```Python\n",
    "Subgroup size: 586, C-Index: 0.6275\n",
    "```\n",
    "\n",
    "**Bonus**: \n",
    "- See if you can get a c-index as low as 0.53\n",
    "```\n",
    "Subgroup size: 251, C-Index: 0.5331\n",
    "```"
   ]
  },
  {
   "cell_type": "markdown",
   "metadata": {
    "colab_type": "text",
    "id": "JJ0kcNcXU0Yy"
   },
   "source": [
    "<a name='9'></a>\n",
    "## 9. Imputation Approaches\n",
    "\n",
    "Seeing that our data is not missing completely at random, we can handle the missing values by replacing them with substituted values based on the other values that we have. This is known as imputation.\n",
    "\n",
    "The first imputation strategy that we will use is **mean substitution**: we will replace the missing values for each feature with the mean of the available values. In the next cell, use the `SimpleImputer` from `sklearn` to use mean imputation for the missing values."
   ]
  },
  {
   "cell_type": "code",
   "execution_count": 39,
   "metadata": {
    "colab": {
     "base_uri": "https://localhost:8080/",
     "height": 252
    },
    "colab_type": "code",
    "id": "TS1jmsZ2611M",
    "outputId": "c6e4aabc-7d7a-4ceb-f781-18d95a7048b9"
   },
   "outputs": [],
   "source": [
    "# Impute values using the mean\n",
    "imputer = SimpleImputer(strategy='mean')\n",
    "imputer.fit(X_train)\n",
    "X_train_mean_imputed = pd.DataFrame(imputer.transform(X_train), columns=X_train.columns)\n",
    "X_val_mean_imputed = pd.DataFrame(imputer.transform(X_val), columns=X_val.columns)"
   ]
  },
  {
   "cell_type": "markdown",
   "metadata": {},
   "source": [
    "<a name='Ex-5'></a>\n",
    "### Exercise 5\n",
    "Now perform a hyperparameter grid search to find the best-performing random forest model, and report results on the test set. \n",
    "\n",
    "Define the parameter ranges for the hyperparameter search in the next cell, and run the cell.\n",
    "\n",
    "#### Target performance\n",
    "Make your test c-index at least 0.74 or higher"
   ]
  },
  {
   "cell_type": "markdown",
   "metadata": {},
   "source": [
    "<details>    \n",
    "<summary>\n",
    "    <font size=\"3\" color=\"darkgreen\"><b>Hints</b></font>\n",
    "</summary>\n",
    "<p>\n",
    "<ul>\n",
    "    <li>n_estimators: try values greater than 100</li>\n",
    "    <li>max_depth: try values in the range 1 to 100</li>\n",
    "    <li>min_samples_leaf: try float values below .5 and/or int values greater than 2</li>\n",
    "</ul>\n",
    "</p>\n"
   ]
  },
  {
   "cell_type": "code",
   "execution_count": 40,
   "metadata": {},
   "outputs": [],
   "source": [
    "# Define ranges for the random forest hyperparameter search \n",
    "hyperparams = {\n",
    "    ### START CODE HERE (REPLACE array values with your code) ###\n",
    "\n",
    "    # how many trees should be in the forest (int)\n",
    "    'n_estimators': [100, 150, 200],\n",
    "\n",
    "    # the maximum depth of trees in the forest (int)\n",
    "    'max_depth': [3, 4, 5],\n",
    "\n",
    "    # the minimum number of samples in a leaf as a fraction\n",
    "    # of the total number of samples in the training set\n",
    "    # Can be int (in which case that is the minimum number)\n",
    "    # or float (in which case the minimum is that fraction of the\n",
    "    # number of training set samples)\n",
    "    'min_samples_leaf': [3, 4],\n",
    "\n",
    "    ### END CODE HERE ###\n",
    "}"
   ]
  },
  {
   "cell_type": "code",
   "execution_count": 41,
   "metadata": {},
   "outputs": [
    {
     "name": "stdout",
     "output_type": "stream",
     "text": [
      "[1/18] {'n_estimators': 100, 'max_depth': 3, 'min_samples_leaf': 3}\n",
      "Val C-Index: 0.7355381411780544\n",
      "\n",
      "[2/18] {'n_estimators': 100, 'max_depth': 3, 'min_samples_leaf': 4}\n",
      "Val C-Index: 0.7351896364911549\n",
      "\n",
      "[3/18] {'n_estimators': 100, 'max_depth': 4, 'min_samples_leaf': 3}\n",
      "Val C-Index: 0.7433713540004212\n",
      "\n",
      "[4/18] {'n_estimators': 100, 'max_depth': 4, 'min_samples_leaf': 4}\n",
      "Val C-Index: 0.7431542171238483\n",
      "\n",
      "[5/18] {'n_estimators': 100, 'max_depth': 5, 'min_samples_leaf': 3}\n",
      "Val C-Index: 0.7494088448535303\n",
      "\n",
      "[6/18] {'n_estimators': 100, 'max_depth': 5, 'min_samples_leaf': 4}\n",
      "Val C-Index: 0.7476066087779754\n",
      "\n",
      "[7/18] {'n_estimators': 150, 'max_depth': 3, 'min_samples_leaf': 3}\n",
      "Val C-Index: 0.737671510990383\n",
      "\n",
      "[8/18] {'n_estimators': 150, 'max_depth': 3, 'min_samples_leaf': 4}\n",
      "Val C-Index: 0.7375510000238851\n",
      "\n",
      "[9/18] {'n_estimators': 150, 'max_depth': 4, 'min_samples_leaf': 3}\n",
      "Val C-Index: 0.745231131348268\n",
      "\n",
      "[10/18] {'n_estimators': 150, 'max_depth': 4, 'min_samples_leaf': 4}\n",
      "Val C-Index: 0.7450291940530552\n",
      "\n",
      "[11/18] {'n_estimators': 150, 'max_depth': 5, 'min_samples_leaf': 3}\n",
      "Val C-Index: 0.7483622451084491\n",
      "\n",
      "[12/18] {'n_estimators': 150, 'max_depth': 5, 'min_samples_leaf': 4}\n",
      "Val C-Index: 0.7477325481663877\n",
      "\n",
      "[13/18] {'n_estimators': 200, 'max_depth': 3, 'min_samples_leaf': 3}\n",
      "Val C-Index: 0.7396604847797906\n",
      "\n",
      "[14/18] {'n_estimators': 200, 'max_depth': 3, 'min_samples_leaf': 4}\n",
      "Val C-Index: 0.7393901493684574\n",
      "\n",
      "[15/18] {'n_estimators': 200, 'max_depth': 4, 'min_samples_leaf': 3}\n",
      "Val C-Index: 0.745559008031893\n",
      "\n",
      "[16/18] {'n_estimators': 200, 'max_depth': 4, 'min_samples_leaf': 4}\n",
      "Val C-Index: 0.7454830101250925\n",
      "\n",
      "[17/18] {'n_estimators': 200, 'max_depth': 5, 'min_samples_leaf': 3}\n",
      "Val C-Index: 0.7495499838233027\n",
      "\n",
      "[18/18] {'n_estimators': 200, 'max_depth': 5, 'min_samples_leaf': 4}\n",
      "Val C-Index: 0.7489767424691502\n",
      "\n",
      "Performance for best hyperparameters:\n",
      "- Train C-Index: 0.8109\n",
      "- Val C-Index: 0.7495\n",
      "- Test C-Index: 0.7805\n"
     ]
    }
   ],
   "source": [
    "# UNQ_C5 (UNIQUE CELL IDENTIFIER, DO NOT EDIT)\n",
    "rf = RandomForestClassifier\n",
    "\n",
    "rf_mean_imputed, best_hyperparams_mean_imputed = holdout_grid_search(rf, X_train_mean_imputed, y_train,\n",
    "                                                                     X_val_mean_imputed, y_val,\n",
    "                                                                     hyperparams, {'random_state': 10})\n",
    "\n",
    "print(\"Performance for best hyperparameters:\")\n",
    "\n",
    "y_train_best = rf_mean_imputed.predict_proba(X_train_mean_imputed)[:, 1]\n",
    "print(f\"- Train C-Index: {cindex(y_train, y_train_best):.4f}\")\n",
    "\n",
    "y_val_best = rf_mean_imputed.predict_proba(X_val_mean_imputed)[:, 1]\n",
    "print(f\"- Val C-Index: {cindex(y_val, y_val_best):.4f}\")\n",
    "\n",
    "y_test_imp = rf_mean_imputed.predict_proba(X_test)[:, 1]\n",
    "print(f\"- Test C-Index: {cindex(y_test, y_test_imp):.4f}\")"
   ]
  },
  {
   "cell_type": "markdown",
   "metadata": {},
   "source": [
    "#### Expected output\n",
    "Note, your actual c-index values will vary depending on the hyper-parameters that you choose.  \n",
    "- Try to get a good Test c-index, similar these numbers below:\n",
    "\n",
    "```Python\n",
    "Performance for best hyperparameters:\n",
    "- Train C-Index: 0.8109\n",
    "- Val C-Index: 0.7495\n",
    "- Test C-Index: 0.7805\n",
    "```"
   ]
  },
  {
   "cell_type": "markdown",
   "metadata": {
    "colab_type": "text",
    "id": "u8eMe7MY7UJk"
   },
   "source": [
    "Next, we will apply another imputation strategy, known as **multivariate feature imputation**, using scikit-learn's `IterativeImputer` class (see the [documentation](https://scikit-learn.org/stable/modules/impute.html#iterative-imputer)).\n",
    "\n",
    "With this strategy, for each feature that is missing values, a regression model is trained to predict observed values based on all of the other features, and the missing values are inferred using this model.\n",
    "As a single iteration across all features may not be enough to impute all missing values, several iterations may be performed, hence the name of the class `IterativeImputer`.\n",
    "\n",
    "In the next cell, use `IterativeImputer` to perform multivariate feature imputation.\n",
    "\n",
    "> Note that the first time the cell is run, `imputer.fit(X_train)` may fail with the message `LinAlgError: SVD did not converge`: simply re-run the cell."
   ]
  },
  {
   "cell_type": "code",
   "execution_count": 42,
   "metadata": {
    "colab": {
     "base_uri": "https://localhost:8080/",
     "height": 252
    },
    "colab_type": "code",
    "id": "TS1jmsZ2611M",
    "outputId": "c6e4aabc-7d7a-4ceb-f781-18d95a7048b9"
   },
   "outputs": [
    {
     "name": "stderr",
     "output_type": "stream",
     "text": [
      "[IterativeImputer] Early stopping criterion not reached.\n"
     ]
    }
   ],
   "source": [
    "# Impute using regression on other covariates\n",
    "imputer = IterativeImputer(random_state=0, sample_posterior=False, max_iter=1, min_value=0)\n",
    "imputer.fit(X_train)\n",
    "X_train_imputed = pd.DataFrame(imputer.transform(X_train), columns=X_train.columns)\n",
    "X_val_imputed = pd.DataFrame(imputer.transform(X_val), columns=X_val.columns)"
   ]
  },
  {
   "cell_type": "markdown",
   "metadata": {},
   "source": [
    "<a name='Ex-6'></a>\n",
    "### Exercise 6\n",
    "\n",
    "Perform a hyperparameter grid search to find the best-performing random forest model, and report results on the test set. Define the parameter ranges for the hyperparameter search in the next cell, and run the cell.\n",
    "\n",
    "#### Target performance\n",
    "\n",
    "Try to get a text c-index of at least 0.74 or higher."
   ]
  },
  {
   "cell_type": "markdown",
   "metadata": {},
   "source": [
    "<details>    \n",
    "<summary>\n",
    "    <font size=\"3\" color=\"darkgreen\"><b>Hints</b></font>\n",
    "</summary>\n",
    "<p>\n",
    "<ul>\n",
    "    <li>n_estimators: try values greater than 100</li>\n",
    "    <li>max_depth: try values in the range 1 to 100</li>\n",
    "    <li>min_samples_leaf: try float values below .5 and/or int values greater than 2</li>\n",
    "</ul>\n",
    "</p>\n"
   ]
  },
  {
   "cell_type": "code",
   "execution_count": 43,
   "metadata": {},
   "outputs": [],
   "source": [
    "# Define ranges for the random forest hyperparameter search \n",
    "hyperparams = {\n",
    "    ### START CODE HERE (REPLACE array values with your code) ###\n",
    "\n",
    "    # how many trees should be in the forest (int)\n",
    "    'n_estimators': [100, 150, 200],\n",
    "\n",
    "    # the maximum depth of trees in the forest (int)\n",
    "    'max_depth': [3, 4, 5],\n",
    "\n",
    "    # the minimum number of samples in a leaf as a fraction\n",
    "    # of the total number of samples in the training set\n",
    "    # Can be int (in which case that is the minimum number)\n",
    "    # or float (in which case the minimum is that fraction of the\n",
    "    # number of training set samples)\n",
    "    'min_samples_leaf': [3, 4],\n",
    "\n",
    "    ### END CODE HERE ###\n",
    "}"
   ]
  },
  {
   "cell_type": "markdown",
   "metadata": {},
   "source": []
  },
  {
   "cell_type": "code",
   "execution_count": 44,
   "metadata": {},
   "outputs": [
    {
     "name": "stdout",
     "output_type": "stream",
     "text": [
      "[1/18] {'n_estimators': 100, 'max_depth': 3, 'min_samples_leaf': 3}\n",
      "Val C-Index: 0.7329770117188772\n",
      "\n",
      "[2/18] {'n_estimators': 100, 'max_depth': 3, 'min_samples_leaf': 4}\n",
      "Val C-Index: 0.7325264526999885\n",
      "\n",
      "[3/18] {'n_estimators': 100, 'max_depth': 4, 'min_samples_leaf': 3}\n",
      "Val C-Index: 0.7406224011430085\n",
      "\n",
      "[4/18] {'n_estimators': 100, 'max_depth': 4, 'min_samples_leaf': 4}\n",
      "Val C-Index: 0.7401512141208454\n",
      "\n",
      "[5/18] {'n_estimators': 100, 'max_depth': 5, 'min_samples_leaf': 3}\n",
      "Val C-Index: 0.7439022536636419\n",
      "\n",
      "[6/18] {'n_estimators': 100, 'max_depth': 5, 'min_samples_leaf': 4}\n",
      "Val C-Index: 0.7433290123094896\n",
      "\n",
      "[7/18] {'n_estimators': 150, 'max_depth': 3, 'min_samples_leaf': 3}\n",
      "Val C-Index: 0.7338140743780657\n",
      "\n",
      "[8/18] {'n_estimators': 150, 'max_depth': 3, 'min_samples_leaf': 4}\n",
      "Val C-Index: 0.7336707640395276\n",
      "\n",
      "[9/18] {'n_estimators': 150, 'max_depth': 4, 'min_samples_leaf': 3}\n",
      "Val C-Index: 0.7409926195175653\n",
      "\n",
      "[10/18] {'n_estimators': 150, 'max_depth': 4, 'min_samples_leaf': 4}\n",
      "Val C-Index: 0.7403889790006927\n",
      "\n",
      "[11/18] {'n_estimators': 150, 'max_depth': 5, 'min_samples_leaf': 3}\n",
      "Val C-Index: 0.7430380488948819\n",
      "\n",
      "[12/18] {'n_estimators': 150, 'max_depth': 5, 'min_samples_leaf': 4}\n",
      "Val C-Index: 0.7422932694082369\n",
      "\n",
      "[13/18] {'n_estimators': 200, 'max_depth': 3, 'min_samples_leaf': 3}\n",
      "Val C-Index: 0.7356792801478268\n",
      "\n",
      "[14/18] {'n_estimators': 200, 'max_depth': 3, 'min_samples_leaf': 4}\n",
      "Val C-Index: 0.735444772321128\n",
      "\n",
      "[15/18] {'n_estimators': 200, 'max_depth': 4, 'min_samples_leaf': 3}\n",
      "Val C-Index: 0.7429316518253611\n",
      "\n",
      "[16/18] {'n_estimators': 200, 'max_depth': 4, 'min_samples_leaf': 4}\n",
      "Val C-Index: 0.7425451481850615\n",
      "\n",
      "[17/18] {'n_estimators': 200, 'max_depth': 5, 'min_samples_leaf': 3}\n",
      "Val C-Index: 0.7453787844243376\n",
      "\n",
      "[18/18] {'n_estimators': 200, 'max_depth': 5, 'min_samples_leaf': 4}\n",
      "Val C-Index: 0.7451247342787473\n",
      "\n",
      "Performance for best hyperparameters:\n",
      "- Train C-Index: 0.8131\n",
      "- Val C-Index: 0.7454\n",
      "- Test C-Index: 0.7797\n"
     ]
    }
   ],
   "source": [
    "# UNQ_C6 (UNIQUE CELL IDENTIFIER, DO NOT EDIT)\n",
    "rf = RandomForestClassifier\n",
    "\n",
    "rf_imputed, best_hyperparams_imputed = holdout_grid_search(rf, X_train_imputed, y_train,\n",
    "                                                           X_val_imputed, y_val,\n",
    "                                                           hyperparams, {'random_state': 10})\n",
    "\n",
    "print(\"Performance for best hyperparameters:\")\n",
    "\n",
    "y_train_best = rf_imputed.predict_proba(X_train_imputed)[:, 1]\n",
    "print(f\"- Train C-Index: {cindex(y_train, y_train_best):.4f}\")\n",
    "\n",
    "y_val_best = rf_imputed.predict_proba(X_val_imputed)[:, 1]\n",
    "print(f\"- Val C-Index: {cindex(y_val, y_val_best):.4f}\")\n",
    "\n",
    "y_test_imp = rf_imputed.predict_proba(X_test)[:, 1]\n",
    "print(f\"- Test C-Index: {cindex(y_test, y_test_imp):.4f}\")"
   ]
  },
  {
   "cell_type": "markdown",
   "metadata": {},
   "source": [
    "#### Expected Output\n",
    "Note, your actual output will vary depending on the hyper-parameters that you chose and the mask that you chose.\n",
    "```Python\n",
    "Performance for best hyperparameters:\n",
    "- Train C-Index: 0.8131\n",
    "- Val C-Index: 0.7454\n",
    "- Test C-Index: 0.7797\n",
    "```"
   ]
  },
  {
   "cell_type": "markdown",
   "metadata": {
    "colab_type": "text",
    "id": "9IhZVEMnnmTe"
   },
   "source": [
    "<a name='10'></a>\n",
    "## 10. Comparison\n",
    "\n",
    "For good measure, retest on the subgroup from before to see if your new models do better."
   ]
  },
  {
   "cell_type": "code",
   "execution_count": 45,
   "metadata": {},
   "outputs": [
    {
     "name": "stdout",
     "output_type": "stream",
     "text": [
      "C-Index (no imputation): 0.6274714828897339\n",
      "C-Index (mean imputation): 0.5974334600760456\n",
      "C-Index (multivariate feature imputation): 0.5903992395437262\n"
     ]
    }
   ],
   "source": [
    "performance, subgroup_size = bad_subset(best_rf, X_test, y_test)\n",
    "print(f\"C-Index (no imputation): {performance}\")\n",
    "\n",
    "performance, subgroup_size = bad_subset(rf_mean_imputed, X_test, y_test)\n",
    "print(f\"C-Index (mean imputation): {performance}\")\n",
    "\n",
    "performance, subgroup_size = bad_subset(rf_imputed, X_test, y_test)\n",
    "print(f\"C-Index (multivariate feature imputation): {performance}\")"
   ]
  },
  {
   "cell_type": "markdown",
   "metadata": {
    "colab_type": "text",
    "id": "8fvmd2o76yma"
   },
   "source": [
    "We should see that avoiding complete case analysis (i.e. analysis only on observations for which there is no missing data) allows our model to generalize a bit better. Remember to examine your missing cases to judge whether they are missing at random or not!"
   ]
  },
  {
   "cell_type": "markdown",
   "metadata": {
    "colab_type": "text",
    "id": "CFM27SfS1QSD"
   },
   "source": [
    "<a name='11'></a>\n",
    "## 11. Explanations: SHAP\n",
    "\n",
    "Using a random forest has improved results, but we've lost some of the natural interpretability of trees. In this section we'll try to explain the predictions using slightly more sophisticated techniques. \n",
    "\n",
    "You choose to apply **SHAP (SHapley Additive exPlanations) **, a cutting edge method that explains predictions made by black-box machine learning models (i.e. models which are too complex to be understandable by humans as is).\n",
    "\n",
    "> Given a prediction made by a machine learning model, SHAP values explain the prediction by quantifying the additive importance of each feature to the prediction. SHAP values have their roots in cooperative game theory, where Shapley values are used to quantify the contribution of each player to the game.\n",
    "> \n",
    "> Although it is computationally expensive to compute SHAP values for general black-box models, in the case of trees and forests there exists a fast polynomial-time algorithm. For more details, see the [TreeShap paper](https://arxiv.org/pdf/1802.03888.pdf).\n",
    "\n",
    "We'll use the [shap library](https://github.com/slundberg/shap) to do this for our random forest model. Run the next cell to output the most at risk individuals in the test set according to our model."
   ]
  },
  {
   "cell_type": "code",
   "execution_count": 46,
   "metadata": {
    "colab": {
     "base_uri": "https://localhost:8080/",
     "height": 258
    },
    "colab_type": "code",
    "id": "emlK-wlyJEel",
    "outputId": "5de57232-6d03-4c0f-d438-ba4ad393d6af"
   },
   "outputs": [
    {
     "data": {
      "text/html": [
       "<div>\n",
       "<style scoped>\n",
       "    .dataframe tbody tr th:only-of-type {\n",
       "        vertical-align: middle;\n",
       "    }\n",
       "\n",
       "    .dataframe tbody tr th {\n",
       "        vertical-align: top;\n",
       "    }\n",
       "\n",
       "    .dataframe thead th {\n",
       "        text-align: right;\n",
       "    }\n",
       "</style>\n",
       "<table border=\"1\" class=\"dataframe\">\n",
       "  <thead>\n",
       "    <tr style=\"text-align: right;\">\n",
       "      <th></th>\n",
       "      <th>Age</th>\n",
       "      <th>Diastolic BP</th>\n",
       "      <th>Poverty index</th>\n",
       "      <th>Race</th>\n",
       "      <th>Red blood cells</th>\n",
       "      <th>Sedimentation rate</th>\n",
       "      <th>Serum Albumin</th>\n",
       "      <th>Serum Cholesterol</th>\n",
       "      <th>Serum Iron</th>\n",
       "      <th>Serum Magnesium</th>\n",
       "      <th>Serum Protein</th>\n",
       "      <th>Sex</th>\n",
       "      <th>Systolic BP</th>\n",
       "      <th>TIBC</th>\n",
       "      <th>TS</th>\n",
       "      <th>White blood cells</th>\n",
       "      <th>BMI</th>\n",
       "      <th>Pulse pressure</th>\n",
       "      <th>risk</th>\n",
       "    </tr>\n",
       "  </thead>\n",
       "  <tbody>\n",
       "    <tr>\n",
       "      <th>5493</th>\n",
       "      <td>67.0</td>\n",
       "      <td>80.0</td>\n",
       "      <td>30.0</td>\n",
       "      <td>1.0</td>\n",
       "      <td>77.7</td>\n",
       "      <td>59.0</td>\n",
       "      <td>3.4</td>\n",
       "      <td>231.0</td>\n",
       "      <td>36.0</td>\n",
       "      <td>1.40</td>\n",
       "      <td>6.3</td>\n",
       "      <td>1.0</td>\n",
       "      <td>170.0</td>\n",
       "      <td>202.0</td>\n",
       "      <td>17.8</td>\n",
       "      <td>8.4</td>\n",
       "      <td>17.029470</td>\n",
       "      <td>90.0</td>\n",
       "      <td>0.619022</td>\n",
       "    </tr>\n",
       "    <tr>\n",
       "      <th>1017</th>\n",
       "      <td>65.0</td>\n",
       "      <td>98.0</td>\n",
       "      <td>16.0</td>\n",
       "      <td>1.0</td>\n",
       "      <td>49.4</td>\n",
       "      <td>30.0</td>\n",
       "      <td>3.4</td>\n",
       "      <td>124.0</td>\n",
       "      <td>129.0</td>\n",
       "      <td>1.59</td>\n",
       "      <td>7.7</td>\n",
       "      <td>1.0</td>\n",
       "      <td>184.0</td>\n",
       "      <td>293.0</td>\n",
       "      <td>44.0</td>\n",
       "      <td>5.9</td>\n",
       "      <td>30.858853</td>\n",
       "      <td>86.0</td>\n",
       "      <td>0.545443</td>\n",
       "    </tr>\n",
       "    <tr>\n",
       "      <th>2050</th>\n",
       "      <td>66.0</td>\n",
       "      <td>100.0</td>\n",
       "      <td>69.0</td>\n",
       "      <td>2.0</td>\n",
       "      <td>42.9</td>\n",
       "      <td>47.0</td>\n",
       "      <td>3.8</td>\n",
       "      <td>233.0</td>\n",
       "      <td>170.0</td>\n",
       "      <td>1.42</td>\n",
       "      <td>8.6</td>\n",
       "      <td>1.0</td>\n",
       "      <td>180.0</td>\n",
       "      <td>411.0</td>\n",
       "      <td>41.4</td>\n",
       "      <td>7.2</td>\n",
       "      <td>22.129498</td>\n",
       "      <td>80.0</td>\n",
       "      <td>0.527768</td>\n",
       "    </tr>\n",
       "    <tr>\n",
       "      <th>6337</th>\n",
       "      <td>69.0</td>\n",
       "      <td>80.0</td>\n",
       "      <td>233.0</td>\n",
       "      <td>1.0</td>\n",
       "      <td>77.7</td>\n",
       "      <td>48.0</td>\n",
       "      <td>4.2</td>\n",
       "      <td>159.0</td>\n",
       "      <td>87.0</td>\n",
       "      <td>1.81</td>\n",
       "      <td>6.9</td>\n",
       "      <td>1.0</td>\n",
       "      <td>146.0</td>\n",
       "      <td>291.0</td>\n",
       "      <td>29.9</td>\n",
       "      <td>15.2</td>\n",
       "      <td>17.931276</td>\n",
       "      <td>66.0</td>\n",
       "      <td>0.526019</td>\n",
       "    </tr>\n",
       "    <tr>\n",
       "      <th>2608</th>\n",
       "      <td>71.0</td>\n",
       "      <td>80.0</td>\n",
       "      <td>104.0</td>\n",
       "      <td>1.0</td>\n",
       "      <td>43.8</td>\n",
       "      <td>23.0</td>\n",
       "      <td>4.0</td>\n",
       "      <td>201.0</td>\n",
       "      <td>119.0</td>\n",
       "      <td>1.60</td>\n",
       "      <td>7.0</td>\n",
       "      <td>1.0</td>\n",
       "      <td>166.0</td>\n",
       "      <td>311.0</td>\n",
       "      <td>38.3</td>\n",
       "      <td>6.3</td>\n",
       "      <td>17.760766</td>\n",
       "      <td>86.0</td>\n",
       "      <td>0.525624</td>\n",
       "    </tr>\n",
       "  </tbody>\n",
       "</table>\n",
       "</div>"
      ],
      "text/plain": [
       "       Age  Diastolic BP  Poverty index  Race  Red blood cells  \\\n",
       "5493  67.0          80.0           30.0   1.0             77.7   \n",
       "1017  65.0          98.0           16.0   1.0             49.4   \n",
       "2050  66.0         100.0           69.0   2.0             42.9   \n",
       "6337  69.0          80.0          233.0   1.0             77.7   \n",
       "2608  71.0          80.0          104.0   1.0             43.8   \n",
       "\n",
       "      Sedimentation rate  Serum Albumin  Serum Cholesterol  Serum Iron  \\\n",
       "5493                59.0            3.4              231.0        36.0   \n",
       "1017                30.0            3.4              124.0       129.0   \n",
       "2050                47.0            3.8              233.0       170.0   \n",
       "6337                48.0            4.2              159.0        87.0   \n",
       "2608                23.0            4.0              201.0       119.0   \n",
       "\n",
       "      Serum Magnesium  Serum Protein  Sex  Systolic BP   TIBC    TS  \\\n",
       "5493             1.40            6.3  1.0        170.0  202.0  17.8   \n",
       "1017             1.59            7.7  1.0        184.0  293.0  44.0   \n",
       "2050             1.42            8.6  1.0        180.0  411.0  41.4   \n",
       "6337             1.81            6.9  1.0        146.0  291.0  29.9   \n",
       "2608             1.60            7.0  1.0        166.0  311.0  38.3   \n",
       "\n",
       "      White blood cells        BMI  Pulse pressure      risk  \n",
       "5493                8.4  17.029470            90.0  0.619022  \n",
       "1017                5.9  30.858853            86.0  0.545443  \n",
       "2050                7.2  22.129498            80.0  0.527768  \n",
       "6337               15.2  17.931276            66.0  0.526019  \n",
       "2608                6.3  17.760766            86.0  0.525624  "
      ]
     },
     "execution_count": 46,
     "metadata": {},
     "output_type": "execute_result"
    }
   ],
   "source": [
    "X_test_risk = X_test.copy(deep=True)\n",
    "X_test_risk.loc[:, 'risk'] = rf_imputed.predict_proba(X_test_risk)[:, 1]\n",
    "X_test_risk = X_test_risk.sort_values(by='risk', ascending=False)\n",
    "X_test_risk.head()"
   ]
  },
  {
   "cell_type": "markdown",
   "metadata": {
    "colab_type": "text",
    "id": "aefDv0PDKrfv"
   },
   "source": [
    "We can use SHAP values to try and understand the model output on specific individuals using force plots. Run the cell below to see a force plot on the riskiest individual. "
   ]
  },
  {
   "cell_type": "code",
   "execution_count": 47,
   "metadata": {
    "colab": {
     "base_uri": "https://localhost:8080/",
     "height": 276
    },
    "colab_type": "code",
    "id": "elJX1FqWKzYm",
    "outputId": "7c97d958-9383-4d7a-bb2b-e61af5ecf47f"
   },
   "outputs": [
    {
     "data": {
      "image/png": "[encoded data removed]",
      "text/plain": [
       "<Figure size 1440x216 with 1 Axes>"
      ]
     },
     "metadata": {
      "needs_background": "light"
     },
     "output_type": "display_data"
    }
   ],
   "source": [
    "explainer = shap.TreeExplainer(rf_imputed)\n",
    "i = 0\n",
    "shap_value = explainer.shap_values(X_test.loc[X_test_risk.index[i], :])[1]\n",
    "shap.force_plot(explainer.expected_value[1], shap_value, feature_names=X_test.columns, matplotlib=True)"
   ]
  },
  {
   "cell_type": "markdown",
   "metadata": {
    "colab_type": "text",
    "id": "Kak4kR4yQ8Tk"
   },
   "source": [
    "How to read this chart:\n",
    "- The red sections on the left are features which push the model towards the final prediction in the positive direction (i.e. a higher Age increases the predicted risk).\n",
    "- The blue sections on the right are features that push the model towards the final prediction in the negative direction (if an increase in a feature leads to a lower risk, it will be shown in blue).\n",
    "- Note that the exact output of your chart will differ depending on the hyper-parameters that you choose for your model.\n",
    "\n",
    "We can also use SHAP values to understand the model output in aggregate. Run the next cell to initialize the SHAP values (this may take a few minutes)."
   ]
  },
  {
   "cell_type": "code",
   "execution_count": 48,
   "metadata": {
    "colab": {},
    "colab_type": "code",
    "id": "Q9pwTohdRlFB"
   },
   "outputs": [],
   "source": [
    "shap_values = shap.TreeExplainer(rf_imputed).shap_values(X_test)[1]"
   ]
  },
  {
   "cell_type": "markdown",
   "metadata": {
    "colab_type": "text",
    "id": "1NpathrHHH3q"
   },
   "source": [
    "Run the next cell to see a summary plot of the SHAP values for each feature on each of the test examples. The colors indicate the value of the feature."
   ]
  },
  {
   "cell_type": "code",
   "execution_count": 49,
   "metadata": {
    "colab": {
     "base_uri": "https://localhost:8080/",
     "height": 558
    },
    "colab_type": "code",
    "id": "ZsqthyxCDfY1",
    "outputId": "d7f397c7-2487-4700-b4f5-8076cf3fada5"
   },
   "outputs": [
    {
     "data": {
      "image/png": "[encoded data removed]",
      "text/plain": [
       "<Figure size 576x626.4 with 2 Axes>"
      ]
     },
     "metadata": {
      "needs_background": "light"
     },
     "output_type": "display_data"
    }
   ],
   "source": [
    "shap.summary_plot(shap_values, X_test)"
   ]
  },
  {
   "cell_type": "markdown",
   "metadata": {},
   "source": [
    "Clearly we see that being a woman (`sex = 2.0`, as opposed to men for which `sex = 1.0`) has a negative SHAP value, meaning that it reduces the risk of dying within 10 years. High age and high systolic blood pressure have positive SHAP values, and are therefore related to increased mortality. \n",
    "\n",
    "You can see how features interact using dependence plots. These plot the SHAP value for a given feature for each data point, and color the points in using the value for another feature. This lets us begin to explain the variation in SHAP value for a single value of the main feature.\n",
    "\n",
    "Run the next cell to see the interaction between Age and Sex."
   ]
  },
  {
   "cell_type": "code",
   "execution_count": 50,
   "metadata": {
    "colab": {
     "base_uri": "https://localhost:8080/",
     "height": 341
    },
    "colab_type": "code",
    "id": "RA3YOaJhEkDZ",
    "outputId": "1bef0e51-3659-4bd3-d728-ee4d10894cd4"
   },
   "outputs": [
    {
     "data": {
      "image/png": "[encoded data removed]",
      "text/plain": [
       "<Figure size 540x360 with 2 Axes>"
      ]
     },
     "metadata": {
      "needs_background": "light"
     },
     "output_type": "display_data"
    }
   ],
   "source": [
    "shap.dependence_plot('Age', shap_values, X_test, interaction_index='Sex')"
   ]
  },
  {
   "cell_type": "markdown",
   "metadata": {},
   "source": [
    "We see that while Age > 50 is generally bad (positive SHAP value), being a woman generally reduces the impact of age. This makes sense since we know that women generally live longer than men.\n",
    "\n",
    "Let's now look at poverty index and age."
   ]
  },
  {
   "cell_type": "code",
   "execution_count": 51,
   "metadata": {
    "colab": {
     "base_uri": "https://localhost:8080/",
     "height": 340
    },
    "colab_type": "code",
    "id": "tXcUiJ_ZFtcl",
    "outputId": "3427d6ba-0334-4fc5-baa3-44af277e033c"
   },
   "outputs": [
    {
     "data": {
      "image/png": "[encoded data removed]",
      "text/plain": [
       "<Figure size 540x360 with 2 Axes>"
      ]
     },
     "metadata": {
      "needs_background": "light"
     },
     "output_type": "display_data"
    }
   ],
   "source": [
    "shap.dependence_plot('Poverty index', shap_values, X_test, interaction_index='Age')"
   ]
  },
  {
   "cell_type": "markdown",
   "metadata": {},
   "source": [
    "We see that the impact of poverty index drops off quickly, and for higher income individuals age begins to explain much of variation in the impact of poverty index.\n",
    "\n",
    "Try some other pairs and see what other interesting relationships you can find!"
   ]
  },
  {
   "cell_type": "markdown",
   "metadata": {
    "colab_type": "text",
    "id": "-Qj31_mFiSB_"
   },
   "source": [
    "# Congratulations!\n",
    "\n",
    "You have completed the second assignment in Course 2. Along the way you've learned to fit decision trees, random forests, and deal with missing data. Now you're ready to move on to week 3!"
   ]
  }
 ],
 "metadata": {
  "colab": {
   "collapsed_sections": [
    "-gc0vttU7Dkf",
    "CFM27SfS1QSD"
   ],
   "include_colab_link": true,
   "name": "C2M2_Assignment.ipynb",
   "provenance": [],
   "toc_visible": true
  },
  "coursera": {
   "schema_names": [
    "AI4MC2-2"
   ]
  },
  "kernelspec": {
   "display_name": "Python 3",
   "language": "python",
   "name": "python3"
  },
  "language_info": {
   "codemirror_mode": {
    "name": "ipython",
    "version": 3
   },
   "file_extension": ".py",
   "mimetype": "text/x-python",
   "name": "python",
   "nbconvert_exporter": "python",
   "pygments_lexer": "ipython3",
   "version": "3.7.6"
  }
 },
 "nbformat": 4,
 "nbformat_minor": 4
}
